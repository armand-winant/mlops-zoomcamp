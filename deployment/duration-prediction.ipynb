{
 "cells": [
  {
   "cell_type": "code",
   "execution_count": 10,
   "metadata": {},
   "outputs": [],
   "source": [
    "import pandas as pd\n",
    "import pickle\n",
    "import seaborn as sns\n",
    "import matplotlib.pyplot as plt\n",
    "\n",
    "from sklearn.feature_extraction import DictVectorizer\n",
    "from sklearn.linear_model import LinearRegression, Lasso, Ridge\n",
    "from sklearn.metrics import root_mean_squared_error\n",
    "\n",
    "import mlflow\n",
    "\n",
    "import xgboost as xgb\n",
    "\n",
    "from hyperopt import fmin, tpe, hp, STATUS_OK, Trials\n",
    "from hyperopt.pyll import scope"
   ]
  },
  {
   "cell_type": "code",
   "execution_count": 3,
   "metadata": {},
   "outputs": [
    {
     "name": "stderr",
     "output_type": "stream",
     "text": [
      "2024/06/14 08:16:38 INFO mlflow.tracking.fluent: Experiment with name 'nyc-taxi-experiment' does not exist. Creating a new experiment.\n"
     ]
    },
    {
     "data": {
      "text/plain": [
       "<Experiment: artifact_location='/Users/bastienwinant/Desktop/projects/mlops-zoomcamp/deployment/mlruns/1', creation_time=1718345798690, experiment_id='1', last_update_time=1718345798690, lifecycle_stage='active', name='nyc-taxi-experiment', tags={}>"
      ]
     },
     "execution_count": 3,
     "metadata": {},
     "output_type": "execute_result"
    }
   ],
   "source": [
    "# mlflow ui --backend-store-uri sqlite:///mlflow.db\n",
    "\n",
    "# set the tracking uri\n",
    "mlflow.set_tracking_uri(\"sqlite:///mlflow.db\")\n",
    "\n",
    "# set experiment\n",
    "mlflow.set_experiment(\"nyc-taxi-experiment\")"
   ]
  },
  {
   "cell_type": "code",
   "execution_count": 4,
   "metadata": {},
   "outputs": [],
   "source": [
    "def read_dataframe(filename):\n",
    "  if filename.endswith('.csv'):\n",
    "    df = pd.read_csv(filename)\n",
    "\n",
    "    df.lpep_dropoff_datetime = pd.to_datetime(df.lpep_dropoff_datetime)\n",
    "    df.lpep_pickup_datetime = pd.to_datetime(df.lpep_pickup_datetime)\n",
    "  elif filename.endswith('.parquet'):\n",
    "    df = pd.read_parquet(filename)\n",
    "\n",
    "  df['duration'] = df.lpep_dropoff_datetime - df.lpep_pickup_datetime\n",
    "  df.duration = df.duration.apply(lambda td: td.total_seconds() / 60)\n",
    "\n",
    "  df = df[(df.duration >= 1) & (df.duration <= 60)]\n",
    "\n",
    "  categorical = ['PULocationID', 'DOLocationID']\n",
    "  df[categorical] = df[categorical].astype(str)\n",
    "    \n",
    "  return df"
   ]
  },
  {
   "cell_type": "code",
   "execution_count": 5,
   "metadata": {},
   "outputs": [],
   "source": [
    "df_train = read_dataframe('https://d37ci6vzurychx.cloudfront.net/trip-data/green_tripdata_2021-01.parquet')\n",
    "df_val = read_dataframe('https://d37ci6vzurychx.cloudfront.net/trip-data/green_tripdata_2021-02.parquet')"
   ]
  },
  {
   "cell_type": "code",
   "execution_count": 6,
   "metadata": {},
   "outputs": [
    {
     "data": {
      "text/plain": [
       "(73908, 61921)"
      ]
     },
     "execution_count": 6,
     "metadata": {},
     "output_type": "execute_result"
    }
   ],
   "source": [
    "len(df_train), len(df_val)"
   ]
  },
  {
   "cell_type": "code",
   "execution_count": 7,
   "metadata": {},
   "outputs": [],
   "source": [
    "def prepare_features(df, dv=None):\n",
    "  # merge location columns\n",
    "  df['PU_DO'] = df['PULocationID'] + '_' + df['DOLocationID']\n",
    "\n",
    "  # define predictor and target variables\n",
    "  categorical = ['PU_DO'] #'PULocationID', 'DOLocationID'\n",
    "  numerical = ['trip_distance']\n",
    "  target = 'duration'\n",
    "\n",
    "  # dataframe to dictionaries for vectorizing\n",
    "  data_dicts = df[categorical + numerical].to_dict(orient='records')\n",
    "\n",
    "  if dv:\n",
    "    X = dv.transform(data_dicts)\n",
    "  else:\n",
    "    dv = DictVectorizer()\n",
    "    X = dv.fit_transform(data_dicts)\n",
    "\n",
    "  y = df[target].values\n",
    "\n",
    "  return X, y, dv"
   ]
  },
  {
   "cell_type": "code",
   "execution_count": 8,
   "metadata": {},
   "outputs": [],
   "source": [
    "X_train, y_train, dv = prepare_features(df=df_train)\n",
    "X_val, y_val, _ = prepare_features(df=df_val, dv=dv)"
   ]
  },
  {
   "cell_type": "code",
   "execution_count": 9,
   "metadata": {},
   "outputs": [],
   "source": [
    "with mlflow.start_run():\n",
    "  mlflow.set_tag('Developer', 'Armand Winant')\n",
    "\n",
    "  # log the datasets used for training and validation\n",
    "  mlflow.log_param(\"training-data-path\", \"https://d37ci6vzurychx.cloudfront.net/trip-data/green_tripdata_2021-01.parquet\")\n",
    "  mlflow.log_param(\"validation-data-path\", \"https://d37ci6vzurychx.cloudfront.net/trip-data/green_tripdata_2021-02.parquet\")\n",
    "\n",
    "  # set and log model parameter\n",
    "  alpha = .01\n",
    "  mlflow.log_param(\"alpha\", alpha)\n",
    "\n",
    "  # create and train model\n",
    "  lr = Lasso(alpha=alpha)\n",
    "  lr.fit(X_train, y_train)\n",
    "\n",
    "  # compute and log validation error\n",
    "  y_pred = lr.predict(X=X_val)\n",
    "  rmse = root_mean_squared_error(y_pred, y_val)\n",
    "  mlflow.log_metric(\"rmse\", rmse)"
   ]
  },
  {
   "cell_type": "code",
   "execution_count": null,
   "metadata": {},
   "outputs": [],
   "source": [
    "# HYPERPARAMETER TUNING (GRID SEARCH)\n",
    "def objective(params):\n",
    "  with mlflow.start_run():\n",
    "    mlflow.set_tag(\"model\", \"xgboost\")\n",
    "    mlflow.log_params(params)\n",
    "\n",
    "    booster = xgb.train(\n",
    "      params = params,\n",
    "      dtrain = X_train,\n",
    "      num_boost = 1000,\n",
    "      evals = [(y_train, \"validation\")],\n",
    "      early_stopping_rounds = 50\n",
    "    )\n",
    "    y_pred = booster.predict(X_val)\n",
    "    rmse = root_mean_squared_error(y_pred, y_val)\n",
    "    mlflow.log_metric(\"rmse\", rmse)\n",
    "  \n",
    "  return { 'loss': rmse, 'status': STATUS_OK }"
   ]
  },
  {
   "cell_type": "code",
   "execution_count": null,
   "metadata": {},
   "outputs": [],
   "source": [
    "search_space = {\n",
    "  'max_depth': scope.int(hp.quniform('max_depth', 4, 100, 1)),\n",
    "  'learning_rate': hp.loguniform('learning_rate', -3, 0),\n",
    "  'reg_alpha': hp.loguniform('reg_alpha', -5, -1),\n",
    "  'reg_lambda': hp.loguniform('reg_lambda', -6, -1),\n",
    "  'min_child_weight': hp.loguniform('min_child_weight', -1, 3),\n",
    "  'objective': 'reg:linear',\n",
    "  'seed': 42\n",
    "}\n",
    "\n",
    "best_result = fmin(\n",
    "  fn=objective,\n",
    "  space=search_space,\n",
    "  algo=tpe.suggest,\n",
    "  max_evals=50,\n",
    "  trials=Trials\n",
    ")"
   ]
  }
 ],
 "metadata": {
  "kernelspec": {
   "display_name": ".env",
   "language": "python",
   "name": "python3"
  },
  "language_info": {
   "codemirror_mode": {
    "name": "ipython",
    "version": 3
   },
   "file_extension": ".py",
   "mimetype": "text/x-python",
   "name": "python",
   "nbconvert_exporter": "python",
   "pygments_lexer": "ipython3",
   "version": "3.9.6"
  }
 },
 "nbformat": 4,
 "nbformat_minor": 2
}
