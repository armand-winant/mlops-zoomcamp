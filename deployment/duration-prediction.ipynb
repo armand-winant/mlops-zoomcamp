{
 "cells": [
  {
   "cell_type": "code",
   "execution_count": 35,
   "metadata": {},
   "outputs": [],
   "source": [
    "import pandas as pd\n",
    "import pickle\n",
    "import seaborn as sns\n",
    "import matplotlib.pyplot as plt\n",
    "\n",
    "from sklearn.feature_extraction import DictVectorizer\n",
    "from sklearn.linear_model import LinearRegression, Lasso, Ridge\n",
    "from sklearn.metrics import root_mean_squared_error\n",
    "\n",
    "import mlflow"
   ]
  },
  {
   "cell_type": "code",
   "execution_count": 36,
   "metadata": {},
   "outputs": [
    {
     "data": {
      "text/plain": [
       "<Experiment: artifact_location='/Users/bastienwinant/Desktop/projects/mlops-zoomcamp/deployment/mlruns/1', creation_time=1718315745854, experiment_id='1', last_update_time=1718315745854, lifecycle_stage='active', name='nyc-taxi-experiment', tags={}>"
      ]
     },
     "execution_count": 36,
     "metadata": {},
     "output_type": "execute_result"
    }
   ],
   "source": [
    "# mlflow ui --backend-store-uri sqlite://mlflow.db\n",
    "\n",
    "# set the tracking uri\n",
    "mlflow.set_tracking_uri(\"sqlite:///mlflow.db\")\n",
    "\n",
    "# set experiment\n",
    "mlflow.set_experiment(\"nyc-taxi-experiment\")"
   ]
  },
  {
   "cell_type": "code",
   "execution_count": 37,
   "metadata": {},
   "outputs": [],
   "source": [
    "def read_dataframe(filename):\n",
    "  if filename.endswith('.csv'):\n",
    "    df = pd.read_csv(filename)\n",
    "\n",
    "    df.lpep_dropoff_datetime = pd.to_datetime(df.lpep_dropoff_datetime)\n",
    "    df.lpep_pickup_datetime = pd.to_datetime(df.lpep_pickup_datetime)\n",
    "  elif filename.endswith('.parquet'):\n",
    "    df = pd.read_parquet(filename)\n",
    "\n",
    "  df['duration'] = df.lpep_dropoff_datetime - df.lpep_pickup_datetime\n",
    "  df.duration = df.duration.apply(lambda td: td.total_seconds() / 60)\n",
    "\n",
    "  df = df[(df.duration >= 1) & (df.duration <= 60)]\n",
    "\n",
    "  categorical = ['PULocationID', 'DOLocationID']\n",
    "  df[categorical] = df[categorical].astype(str)\n",
    "    \n",
    "  return df"
   ]
  },
  {
   "cell_type": "code",
   "execution_count": 38,
   "metadata": {},
   "outputs": [],
   "source": [
    "df_train = read_dataframe('https://d37ci6vzurychx.cloudfront.net/trip-data/green_tripdata_2021-01.parquet')\n",
    "df_val = read_dataframe('https://d37ci6vzurychx.cloudfront.net/trip-data/green_tripdata_2021-02.parquet')"
   ]
  },
  {
   "cell_type": "code",
   "execution_count": 39,
   "metadata": {},
   "outputs": [
    {
     "data": {
      "text/plain": [
       "(73908, 61921)"
      ]
     },
     "execution_count": 39,
     "metadata": {},
     "output_type": "execute_result"
    }
   ],
   "source": [
    "len(df_train), len(df_val)"
   ]
  },
  {
   "cell_type": "code",
   "execution_count": 40,
   "metadata": {},
   "outputs": [],
   "source": [
    "def prepare_features(df, dv=None):\n",
    "  # merge location columns\n",
    "  df['PU_DO'] = df['PULocationID'] + '_' + df['DOLocationID']\n",
    "\n",
    "  # define predictor and target variables\n",
    "  categorical = ['PU_DO'] #'PULocationID', 'DOLocationID'\n",
    "  numerical = ['trip_distance']\n",
    "  target = 'duration'\n",
    "\n",
    "  # dataframe to dictionaries for vectorizing\n",
    "  data_dicts = df[categorical + numerical].to_dict(orient='records')\n",
    "\n",
    "  if dv:\n",
    "    X = dv.transform(data_dicts)\n",
    "  else:\n",
    "    dv = DictVectorizer()\n",
    "    X = dv.fit_transform(data_dicts)\n",
    "\n",
    "  y = df[target].values\n",
    "\n",
    "  return X, y, dv"
   ]
  },
  {
   "cell_type": "code",
   "execution_count": 41,
   "metadata": {},
   "outputs": [],
   "source": [
    "X_train, y_train, dv = prepare_features(df=df_train)\n",
    "X_val, y_val, _ = prepare_features(df=df_val, dv=dv)"
   ]
  },
  {
   "cell_type": "code",
   "execution_count": 42,
   "metadata": {},
   "outputs": [
    {
     "data": {
      "text/plain": [
       "7.758715200888857"
      ]
     },
     "execution_count": 42,
     "metadata": {},
     "output_type": "execute_result"
    }
   ],
   "source": [
    "lr = LinearRegression()\n",
    "lr.fit(X_train, y_train)\n",
    "\n",
    "y_pred = lr.predict(X_val)\n",
    "\n",
    "root_mean_squared_error(y_val, y_pred)"
   ]
  },
  {
   "cell_type": "code",
   "execution_count": null,
   "metadata": {},
   "outputs": [],
   "source": [
    "with mlflow.start_run():\n",
    "  mlflow.set_tag('developer', 'Armand Winant')\n",
    "\n",
    "  alpha = .01\n",
    "\n",
    "  lr = Lasso(alpha)\n",
    "  lr.fit()"
   ]
  }
 ],
 "metadata": {
  "kernelspec": {
   "display_name": ".env",
   "language": "python",
   "name": "python3"
  },
  "language_info": {
   "codemirror_mode": {
    "name": "ipython",
    "version": 3
   },
   "file_extension": ".py",
   "mimetype": "text/x-python",
   "name": "python",
   "nbconvert_exporter": "python",
   "pygments_lexer": "ipython3",
   "version": "3.9.6"
  }
 },
 "nbformat": 4,
 "nbformat_minor": 2
}
