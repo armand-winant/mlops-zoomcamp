{
 "cells": [
  {
   "cell_type": "code",
   "execution_count": 10,
   "metadata": {},
   "outputs": [],
   "source": [
    "import pandas as pd\n",
    "import pickle\n",
    "import seaborn as sns\n",
    "import matplotlib.pyplot as plt\n",
    "\n",
    "from sklearn.feature_extraction import DictVectorizer\n",
    "from sklearn.linear_model import LinearRegression, Lasso, Ridge\n",
    "from sklearn.metrics import root_mean_squared_error\n",
    "\n",
    "import mlflow\n",
    "\n",
    "import xgboost as xgb\n",
    "\n",
    "from hyperopt import fmin, tpe, hp, STATUS_OK, Trials\n",
    "from hyperopt.pyll import scope"
   ]
  },
  {
   "cell_type": "code",
   "execution_count": 3,
   "metadata": {},
   "outputs": [
    {
     "name": "stderr",
     "output_type": "stream",
     "text": [
      "2024/06/14 08:16:38 INFO mlflow.tracking.fluent: Experiment with name 'nyc-taxi-experiment' does not exist. Creating a new experiment.\n"
     ]
    },
    {
     "data": {
      "text/plain": [
       "<Experiment: artifact_location='/Users/bastienwinant/Desktop/projects/mlops-zoomcamp/deployment/mlruns/1', creation_time=1718345798690, experiment_id='1', last_update_time=1718345798690, lifecycle_stage='active', name='nyc-taxi-experiment', tags={}>"
      ]
     },
     "execution_count": 3,
     "metadata": {},
     "output_type": "execute_result"
    }
   ],
   "source": [
    "# mlflow ui --backend-store-uri sqlite:///mlflow.db\n",
    "\n",
    "# set the tracking uri\n",
    "mlflow.set_tracking_uri(\"sqlite:///mlflow.db\")\n",
    "\n",
    "# set experiment\n",
    "mlflow.set_experiment(\"nyc-taxi-experiment\")"
   ]
  },
  {
   "cell_type": "code",
   "execution_count": 4,
   "metadata": {},
   "outputs": [],
   "source": [
    "def read_dataframe(filename):\n",
    "  if filename.endswith('.csv'):\n",
    "    df = pd.read_csv(filename)\n",
    "\n",
    "    df.lpep_dropoff_datetime = pd.to_datetime(df.lpep_dropoff_datetime)\n",
    "    df.lpep_pickup_datetime = pd.to_datetime(df.lpep_pickup_datetime)\n",
    "  elif filename.endswith('.parquet'):\n",
    "    df = pd.read_parquet(filename)\n",
    "\n",
    "  df['duration'] = df.lpep_dropoff_datetime - df.lpep_pickup_datetime\n",
    "  df.duration = df.duration.apply(lambda td: td.total_seconds() / 60)\n",
    "\n",
    "  df = df[(df.duration >= 1) & (df.duration <= 60)]\n",
    "\n",
    "  categorical = ['PULocationID', 'DOLocationID']\n",
    "  df[categorical] = df[categorical].astype(str)\n",
    "    \n",
    "  return df"
   ]
  },
  {
   "cell_type": "code",
   "execution_count": 5,
   "metadata": {},
   "outputs": [],
   "source": [
    "df_train = read_dataframe('https://d37ci6vzurychx.cloudfront.net/trip-data/green_tripdata_2021-01.parquet')\n",
    "df_val = read_dataframe('https://d37ci6vzurychx.cloudfront.net/trip-data/green_tripdata_2021-02.parquet')"
   ]
  },
  {
   "cell_type": "code",
   "execution_count": 6,
   "metadata": {},
   "outputs": [
    {
     "data": {
      "text/plain": [
       "(73908, 61921)"
      ]
     },
     "execution_count": 6,
     "metadata": {},
     "output_type": "execute_result"
    }
   ],
   "source": [
    "len(df_train), len(df_val)"
   ]
  },
  {
   "cell_type": "code",
   "execution_count": 7,
   "metadata": {},
   "outputs": [],
   "source": [
    "def prepare_features(df, dv=None):\n",
    "  # merge location columns\n",
    "  df['PU_DO'] = df['PULocationID'] + '_' + df['DOLocationID']\n",
    "\n",
    "  # define predictor and target variables\n",
    "  categorical = ['PU_DO'] #'PULocationID', 'DOLocationID'\n",
    "  numerical = ['trip_distance']\n",
    "  target = 'duration'\n",
    "\n",
    "  # dataframe to dictionaries for vectorizing\n",
    "  data_dicts = df[categorical + numerical].to_dict(orient='records')\n",
    "\n",
    "  if dv:\n",
    "    X = dv.transform(data_dicts)\n",
    "  else:\n",
    "    dv = DictVectorizer()\n",
    "    X = dv.fit_transform(data_dicts)\n",
    "\n",
    "  y = df[target].values\n",
    "\n",
    "  return X, y, dv"
   ]
  },
  {
   "cell_type": "code",
   "execution_count": 8,
   "metadata": {},
   "outputs": [],
   "source": [
    "X_train, y_train, dv = prepare_features(df=df_train)\n",
    "X_val, y_val, _ = prepare_features(df=df_val, dv=dv)"
   ]
  },
  {
   "cell_type": "code",
   "execution_count": 9,
   "metadata": {},
   "outputs": [],
   "source": [
    "with mlflow.start_run():\n",
    "  mlflow.set_tag('Developer', 'Armand Winant')\n",
    "\n",
    "  # log the datasets used for training and validation\n",
    "  mlflow.log_param(\"training-data-path\", \"https://d37ci6vzurychx.cloudfront.net/trip-data/green_tripdata_2021-01.parquet\")\n",
    "  mlflow.log_param(\"validation-data-path\", \"https://d37ci6vzurychx.cloudfront.net/trip-data/green_tripdata_2021-02.parquet\")\n",
    "\n",
    "  # set and log model parameter\n",
    "  alpha = .01\n",
    "  mlflow.log_param(\"alpha\", alpha)\n",
    "\n",
    "  # create and train model\n",
    "  lr = Lasso(alpha=alpha)\n",
    "  lr.fit(X_train, y_train)\n",
    "\n",
    "  # compute and log validation error\n",
    "  y_pred = lr.predict(X=X_val)\n",
    "  rmse = root_mean_squared_error(y_pred, y_val)\n",
    "  mlflow.log_metric(\"rmse\", rmse)"
   ]
  },
  {
   "cell_type": "markdown",
   "metadata": {},
   "source": [
    "### HYPERPARAMETER TUNING (GRID SEARCH)"
   ]
  },
  {
   "cell_type": "code",
   "execution_count": 11,
   "metadata": {},
   "outputs": [],
   "source": [
    "train = xgb.DMatrix(data=X_train, label=y_train)\n",
    "valid = xgb.DMatrix(data=X_val, label=y_val)"
   ]
  },
  {
   "cell_type": "code",
   "execution_count": 12,
   "metadata": {},
   "outputs": [],
   "source": [
    "# HYPERPARAMETER TUNING (GRID SEARCH)\n",
    "def objective(params):\n",
    "  with mlflow.start_run():\n",
    "    # log the model and params\n",
    "    mlflow.set_tag(\"model\", \"xgboost\")\n",
    "    mlflow.log_params(params)\n",
    "\n",
    "    # train the model\n",
    "    booster = xgb.train(\n",
    "      params = params,\n",
    "      dtrain = train,\n",
    "      num_boost_round = 10,\n",
    "      evals = [(valid, \"validation\")],\n",
    "      early_stopping_rounds = 5\n",
    "    )\n",
    "\n",
    "    # generate validation preds and evaluate error\n",
    "    y_pred = booster.predict(valid)\n",
    "    rmse = root_mean_squared_error(y_val, y_pred)\n",
    "    mlflow.log_metric(\"rmse\", rmse)\n",
    "  \n",
    "  return { 'loss': rmse, 'status': STATUS_OK }"
   ]
  },
  {
   "cell_type": "code",
   "execution_count": 15,
   "metadata": {},
   "outputs": [
    {
     "name": "stdout",
     "output_type": "stream",
     "text": [
      "  0%|          | 0/50 [00:00<?, ?trial/s, best loss=?]"
     ]
    },
    {
     "name": "stderr",
     "output_type": "stream",
     "text": [
      "/Users/bastienwinant/Desktop/projects/mlops-zoomcamp/.env/lib/python3.9/site-packages/xgboost/core.py:160: UserWarning: [08:47:12] WARNING: /Users/runner/work/xgboost/xgboost/src/objective/regression_obj.cu:209: reg:linear is now deprecated in favor of reg:squarederror.\n",
      "  warnings.warn(smsg, UserWarning)\n",
      "\n"
     ]
    },
    {
     "name": "stdout",
     "output_type": "stream",
     "text": [
      "[0]\tvalidation-rmse:7.49105                           \n",
      "[1]\tvalidation-rmse:6.70234                           \n",
      "[2]\tvalidation-rmse:6.54988                           \n",
      "[3]\tvalidation-rmse:6.50555                           \n",
      "[4]\tvalidation-rmse:6.48368                           \n",
      "[5]\tvalidation-rmse:6.46882                           \n",
      "[6]\tvalidation-rmse:6.45914                           \n",
      "[7]\tvalidation-rmse:6.45479                           \n",
      "[8]\tvalidation-rmse:6.44882                           \n",
      "[9]\tvalidation-rmse:6.44291                           \n",
      "[0]\tvalidation-rmse:8.32201                                                  \n",
      "  2%|▏         | 1/50 [00:03<02:39,  3.25s/trial, best loss: 6.4429131051199]"
     ]
    },
    {
     "name": "stderr",
     "output_type": "stream",
     "text": [
      "/Users/bastienwinant/Desktop/projects/mlops-zoomcamp/.env/lib/python3.9/site-packages/xgboost/core.py:160: UserWarning: [08:47:15] WARNING: /Users/runner/work/xgboost/xgboost/src/objective/regression_obj.cu:209: reg:linear is now deprecated in favor of reg:squarederror.\n",
      "  warnings.warn(smsg, UserWarning)\n",
      "\n"
     ]
    },
    {
     "name": "stdout",
     "output_type": "stream",
     "text": [
      "[1]\tvalidation-rmse:7.16137                                                  \n",
      "[2]\tvalidation-rmse:6.83951                                                  \n",
      "[3]\tvalidation-rmse:6.73629                                                  \n",
      "[4]\tvalidation-rmse:6.69551                                                  \n",
      "[5]\tvalidation-rmse:6.67789                                                  \n",
      "[6]\tvalidation-rmse:6.66314                                                  \n",
      "[7]\tvalidation-rmse:6.65960                                                  \n",
      "[8]\tvalidation-rmse:6.65589                                                  \n",
      "[9]\tvalidation-rmse:6.65142                                                  \n",
      "  4%|▍         | 2/50 [00:04<01:28,  1.84s/trial, best loss: 6.4429131051199]"
     ]
    },
    {
     "name": "stderr",
     "output_type": "stream",
     "text": [
      "/Users/bastienwinant/Desktop/projects/mlops-zoomcamp/.env/lib/python3.9/site-packages/xgboost/core.py:160: UserWarning: [08:47:16] WARNING: /Users/runner/work/xgboost/xgboost/src/objective/regression_obj.cu:209: reg:linear is now deprecated in favor of reg:squarederror.\n",
      "  warnings.warn(smsg, UserWarning)\n",
      "\n"
     ]
    },
    {
     "name": "stdout",
     "output_type": "stream",
     "text": [
      "[0]\tvalidation-rmse:10.63989                                                 \n",
      "[1]\tvalidation-rmse:9.48702                                                  \n",
      "[2]\tvalidation-rmse:8.64784                                                  \n",
      "[3]\tvalidation-rmse:8.03501                                                  \n",
      "[4]\tvalidation-rmse:7.61087                                                  \n",
      "[5]\tvalidation-rmse:7.31287                                                  \n",
      "[6]\tvalidation-rmse:7.08023                                                  \n",
      "[7]\tvalidation-rmse:6.94291                                                  \n",
      "[8]\tvalidation-rmse:6.83612                                                  \n",
      "[9]\tvalidation-rmse:6.76323                                                  \n",
      "  6%|▌         | 3/50 [00:26<08:54, 11.38s/trial, best loss: 6.4429131051199]"
     ]
    },
    {
     "name": "stderr",
     "output_type": "stream",
     "text": [
      "/Users/bastienwinant/Desktop/projects/mlops-zoomcamp/.env/lib/python3.9/site-packages/xgboost/core.py:160: UserWarning: [08:47:38] WARNING: /Users/runner/work/xgboost/xgboost/src/objective/regression_obj.cu:209: reg:linear is now deprecated in favor of reg:squarederror.\n",
      "  warnings.warn(smsg, UserWarning)\n",
      "\n"
     ]
    },
    {
     "name": "stdout",
     "output_type": "stream",
     "text": [
      "[0]\tvalidation-rmse:11.58607                                                 \n",
      "[1]\tvalidation-rmse:11.02354                                                 \n",
      "[2]\tvalidation-rmse:10.52009                                                 \n",
      "[3]\tvalidation-rmse:10.07081                                                 \n",
      "[4]\tvalidation-rmse:9.67072                                                  \n",
      "[5]\tvalidation-rmse:9.31534                                                  \n",
      "[6]\tvalidation-rmse:9.00041                                                  \n",
      "[7]\tvalidation-rmse:8.72208                                                  \n",
      "[8]\tvalidation-rmse:8.47658                                                  \n",
      "[9]\tvalidation-rmse:8.26036                                                  \n",
      "  8%|▊         | 4/50 [00:29<06:01,  7.87s/trial, best loss: 6.4429131051199]"
     ]
    },
    {
     "name": "stderr",
     "output_type": "stream",
     "text": [
      "/Users/bastienwinant/Desktop/projects/mlops-zoomcamp/.env/lib/python3.9/site-packages/xgboost/core.py:160: UserWarning: [08:47:41] WARNING: /Users/runner/work/xgboost/xgboost/src/objective/regression_obj.cu:209: reg:linear is now deprecated in favor of reg:squarederror.\n",
      "  warnings.warn(smsg, UserWarning)\n",
      "\n"
     ]
    },
    {
     "name": "stdout",
     "output_type": "stream",
     "text": [
      "[0]\tvalidation-rmse:7.44540                                                  \n",
      "[1]\tvalidation-rmse:6.76358                                                  \n",
      "[2]\tvalidation-rmse:6.64867                                                  \n",
      "[3]\tvalidation-rmse:6.61355                                                  \n",
      "[4]\tvalidation-rmse:6.60614                                                  \n",
      "[5]\tvalidation-rmse:6.60203                                                  \n",
      "[6]\tvalidation-rmse:6.59144                                                  \n",
      "[7]\tvalidation-rmse:6.58176                                                  \n",
      "[8]\tvalidation-rmse:6.57473                                                  \n",
      "[9]\tvalidation-rmse:6.57011                                                  \n",
      "[0]\tvalidation-rmse:10.33698                                                 \n",
      " 10%|█         | 5/50 [00:30<04:06,  5.48s/trial, best loss: 6.4429131051199]"
     ]
    },
    {
     "name": "stderr",
     "output_type": "stream",
     "text": [
      "/Users/bastienwinant/Desktop/projects/mlops-zoomcamp/.env/lib/python3.9/site-packages/xgboost/core.py:160: UserWarning: [08:47:42] WARNING: /Users/runner/work/xgboost/xgboost/src/objective/regression_obj.cu:209: reg:linear is now deprecated in favor of reg:squarederror.\n",
      "  warnings.warn(smsg, UserWarning)\n",
      "\n"
     ]
    },
    {
     "name": "stdout",
     "output_type": "stream",
     "text": [
      "[1]\tvalidation-rmse:9.06793                                                  \n",
      "[2]\tvalidation-rmse:8.23421                                                  \n",
      "[3]\tvalidation-rmse:7.69828                                                  \n",
      "[4]\tvalidation-rmse:7.35921                                                  \n",
      "[5]\tvalidation-rmse:7.14377                                                  \n",
      "[6]\tvalidation-rmse:7.00595                                                  \n",
      "[7]\tvalidation-rmse:6.91745                                                  \n",
      "[8]\tvalidation-rmse:6.86076                                                  \n",
      "[9]\tvalidation-rmse:6.82321                                                  \n",
      " 12%|█▏        | 6/50 [00:31<02:54,  3.97s/trial, best loss: 6.4429131051199]"
     ]
    },
    {
     "name": "stderr",
     "output_type": "stream",
     "text": [
      "/Users/bastienwinant/Desktop/projects/mlops-zoomcamp/.env/lib/python3.9/site-packages/xgboost/core.py:160: UserWarning: [08:47:43] WARNING: /Users/runner/work/xgboost/xgboost/src/objective/regression_obj.cu:209: reg:linear is now deprecated in favor of reg:squarederror.\n",
      "  warnings.warn(smsg, UserWarning)\n",
      "\n"
     ]
    },
    {
     "name": "stdout",
     "output_type": "stream",
     "text": [
      "[0]\tvalidation-rmse:11.21186                                                 \n",
      "[1]\tvalidation-rmse:10.36993                                                 \n",
      "[2]\tvalidation-rmse:9.66751                                                  \n",
      "[3]\tvalidation-rmse:9.08558                                                  \n",
      "[4]\tvalidation-rmse:8.60486                                                  \n",
      "[5]\tvalidation-rmse:8.20854                                                  \n",
      "[6]\tvalidation-rmse:7.88747                                                  \n",
      "[7]\tvalidation-rmse:7.62551                                                  \n",
      "[8]\tvalidation-rmse:7.41145                                                  \n",
      "[9]\tvalidation-rmse:7.23966                                                  \n",
      " 14%|█▍        | 7/50 [00:42<04:27,  6.21s/trial, best loss: 6.4429131051199]"
     ]
    },
    {
     "name": "stderr",
     "output_type": "stream",
     "text": [
      "/Users/bastienwinant/Desktop/projects/mlops-zoomcamp/.env/lib/python3.9/site-packages/xgboost/core.py:160: UserWarning: [08:47:54] WARNING: /Users/runner/work/xgboost/xgboost/src/objective/regression_obj.cu:209: reg:linear is now deprecated in favor of reg:squarederror.\n",
      "  warnings.warn(smsg, UserWarning)\n",
      "\n"
     ]
    },
    {
     "name": "stdout",
     "output_type": "stream",
     "text": [
      "[0]\tvalidation-rmse:10.87478                                                 \n",
      "[1]\tvalidation-rmse:9.83469                                                  \n",
      "[2]\tvalidation-rmse:9.03397                                                  \n",
      "[3]\tvalidation-rmse:8.42722                                                  \n",
      "[4]\tvalidation-rmse:7.96861                                                  \n",
      "[5]\tvalidation-rmse:7.62808                                                  \n",
      "[6]\tvalidation-rmse:7.37426                                                  \n",
      "[7]\tvalidation-rmse:7.18600                                                  \n",
      "[8]\tvalidation-rmse:7.04662                                                  \n",
      "[9]\tvalidation-rmse:6.94460                                                  \n",
      " 16%|█▌        | 8/50 [00:44<03:24,  4.86s/trial, best loss: 6.4429131051199]"
     ]
    },
    {
     "name": "stderr",
     "output_type": "stream",
     "text": [
      "/Users/bastienwinant/Desktop/projects/mlops-zoomcamp/.env/lib/python3.9/site-packages/xgboost/core.py:160: UserWarning: [08:47:56] WARNING: /Users/runner/work/xgboost/xgboost/src/objective/regression_obj.cu:209: reg:linear is now deprecated in favor of reg:squarederror.\n",
      "  warnings.warn(smsg, UserWarning)\n",
      "\n"
     ]
    },
    {
     "name": "stdout",
     "output_type": "stream",
     "text": [
      "[0]\tvalidation-rmse:10.39887                                                 \n",
      "[1]\tvalidation-rmse:9.14181                                                  \n",
      "[2]\tvalidation-rmse:8.28955                                                  \n",
      "[3]\tvalidation-rmse:7.72685                                                  \n",
      "[4]\tvalidation-rmse:7.35906                                                  \n",
      "[5]\tvalidation-rmse:7.11919                                                  \n",
      "[6]\tvalidation-rmse:6.96237                                                  \n",
      "[7]\tvalidation-rmse:6.85671                                                  \n",
      "[8]\tvalidation-rmse:6.78729                                                  \n",
      "[9]\tvalidation-rmse:6.73719                                                  \n",
      " 18%|█▊        | 9/50 [00:46<02:47,  4.08s/trial, best loss: 6.4429131051199]"
     ]
    },
    {
     "name": "stderr",
     "output_type": "stream",
     "text": [
      "/Users/bastienwinant/Desktop/projects/mlops-zoomcamp/.env/lib/python3.9/site-packages/xgboost/core.py:160: UserWarning: [08:47:58] WARNING: /Users/runner/work/xgboost/xgboost/src/objective/regression_obj.cu:209: reg:linear is now deprecated in favor of reg:squarederror.\n",
      "  warnings.warn(smsg, UserWarning)\n",
      "\n"
     ]
    },
    {
     "name": "stdout",
     "output_type": "stream",
     "text": [
      "[0]\tvalidation-rmse:11.52456                                                 \n",
      "[1]\tvalidation-rmse:10.91081                                                 \n",
      "[2]\tvalidation-rmse:10.36511                                                 \n",
      "[3]\tvalidation-rmse:9.88108                                                  \n",
      "[4]\tvalidation-rmse:9.45239                                                  \n",
      "[5]\tvalidation-rmse:9.07509                                                  \n",
      "[6]\tvalidation-rmse:8.74208                                                  \n",
      "[7]\tvalidation-rmse:8.44943                                                  \n",
      "[8]\tvalidation-rmse:8.19468                                                  \n",
      "[9]\tvalidation-rmse:7.97221                                                  \n",
      " 20%|██        | 10/50 [01:01<04:52,  7.31s/trial, best loss: 6.4429131051199]"
     ]
    },
    {
     "name": "stderr",
     "output_type": "stream",
     "text": [
      "/Users/bastienwinant/Desktop/projects/mlops-zoomcamp/.env/lib/python3.9/site-packages/xgboost/core.py:160: UserWarning: [08:48:13] WARNING: /Users/runner/work/xgboost/xgboost/src/objective/regression_obj.cu:209: reg:linear is now deprecated in favor of reg:squarederror.\n",
      "  warnings.warn(smsg, UserWarning)\n",
      "\n"
     ]
    },
    {
     "name": "stdout",
     "output_type": "stream",
     "text": [
      "[0]\tvalidation-rmse:9.08343                                                   \n",
      "[1]\tvalidation-rmse:7.68262                                                   \n",
      "[2]\tvalidation-rmse:7.09383                                                   \n",
      "[3]\tvalidation-rmse:6.84343                                                   \n",
      "[4]\tvalidation-rmse:6.72993                                                   \n",
      "[5]\tvalidation-rmse:6.67609                                                   \n",
      "[6]\tvalidation-rmse:6.64287                                                   \n",
      "[7]\tvalidation-rmse:6.62633                                                   \n",
      "[8]\tvalidation-rmse:6.61063                                                   \n",
      "[9]\tvalidation-rmse:6.60105                                                   \n",
      " 22%|██▏       | 11/50 [01:05<04:03,  6.23s/trial, best loss: 6.4429131051199]"
     ]
    },
    {
     "name": "stderr",
     "output_type": "stream",
     "text": [
      "/Users/bastienwinant/Desktop/projects/mlops-zoomcamp/.env/lib/python3.9/site-packages/xgboost/core.py:160: UserWarning: [08:48:17] WARNING: /Users/runner/work/xgboost/xgboost/src/objective/regression_obj.cu:209: reg:linear is now deprecated in favor of reg:squarederror.\n",
      "  warnings.warn(smsg, UserWarning)\n",
      "\n"
     ]
    },
    {
     "name": "stdout",
     "output_type": "stream",
     "text": [
      "[0]\tvalidation-rmse:8.66474                                                   \n",
      "[1]\tvalidation-rmse:7.35116                                                   \n",
      "[2]\tvalidation-rmse:6.90614                                                   \n",
      "[3]\tvalidation-rmse:6.73072                                                   \n",
      "[4]\tvalidation-rmse:6.65615                                                   \n",
      "[5]\tvalidation-rmse:6.61889                                                   \n",
      "[6]\tvalidation-rmse:6.60173                                                   \n",
      "[7]\tvalidation-rmse:6.59450                                                   \n",
      "[8]\tvalidation-rmse:6.58505                                                   \n",
      "[9]\tvalidation-rmse:6.57727                                                   \n",
      " 24%|██▍       | 12/50 [01:11<03:59,  6.29s/trial, best loss: 6.4429131051199]"
     ]
    },
    {
     "name": "stderr",
     "output_type": "stream",
     "text": [
      "/Users/bastienwinant/Desktop/projects/mlops-zoomcamp/.env/lib/python3.9/site-packages/xgboost/core.py:160: UserWarning: [08:48:23] WARNING: /Users/runner/work/xgboost/xgboost/src/objective/regression_obj.cu:209: reg:linear is now deprecated in favor of reg:squarederror.\n",
      "  warnings.warn(smsg, UserWarning)\n",
      "\n"
     ]
    },
    {
     "name": "stdout",
     "output_type": "stream",
     "text": [
      "[0]\tvalidation-rmse:11.48961                                                  \n",
      "[1]\tvalidation-rmse:10.85042                                                  \n",
      "[2]\tvalidation-rmse:10.28788                                                  \n",
      "[3]\tvalidation-rmse:9.79413                                                   \n",
      "[4]\tvalidation-rmse:9.36276                                                   \n",
      "[5]\tvalidation-rmse:8.98657                                                   \n",
      "[6]\tvalidation-rmse:8.66019                                                   \n",
      "[7]\tvalidation-rmse:8.37676                                                   \n",
      "[8]\tvalidation-rmse:8.13180                                                   \n",
      "[9]\tvalidation-rmse:7.92007                                                   \n",
      " 26%|██▌       | 13/50 [01:15<03:25,  5.54s/trial, best loss: 6.4429131051199]"
     ]
    },
    {
     "name": "stderr",
     "output_type": "stream",
     "text": [
      "/Users/bastienwinant/Desktop/projects/mlops-zoomcamp/.env/lib/python3.9/site-packages/xgboost/core.py:160: UserWarning: [08:48:27] WARNING: /Users/runner/work/xgboost/xgboost/src/objective/regression_obj.cu:209: reg:linear is now deprecated in favor of reg:squarederror.\n",
      "  warnings.warn(smsg, UserWarning)\n",
      "\n"
     ]
    },
    {
     "name": "stdout",
     "output_type": "stream",
     "text": [
      "[0]\tvalidation-rmse:11.71793                                                  \n",
      "[1]\tvalidation-rmse:11.26267                                                  \n",
      "[2]\tvalidation-rmse:10.84392                                                  \n",
      "[3]\tvalidation-rmse:10.45905                                                  \n",
      "[4]\tvalidation-rmse:10.10905                                                  \n",
      "[5]\tvalidation-rmse:9.78566                                                   \n",
      "[6]\tvalidation-rmse:9.49226                                                   \n",
      "[7]\tvalidation-rmse:9.22524                                                   \n",
      "[8]\tvalidation-rmse:8.97990                                                   \n",
      "[9]\tvalidation-rmse:8.75923                                                   \n",
      " 28%|██▊       | 14/50 [01:22<03:32,  5.90s/trial, best loss: 6.4429131051199]"
     ]
    },
    {
     "name": "stderr",
     "output_type": "stream",
     "text": [
      "/Users/bastienwinant/Desktop/projects/mlops-zoomcamp/.env/lib/python3.9/site-packages/xgboost/core.py:160: UserWarning: [08:48:34] WARNING: /Users/runner/work/xgboost/xgboost/src/objective/regression_obj.cu:209: reg:linear is now deprecated in favor of reg:squarederror.\n",
      "  warnings.warn(smsg, UserWarning)\n",
      "\n"
     ]
    },
    {
     "name": "stdout",
     "output_type": "stream",
     "text": [
      "[0]\tvalidation-rmse:7.75813                                                   \n",
      "[1]\tvalidation-rmse:6.89863                                                   \n",
      "[2]\tvalidation-rmse:6.72291                                                   \n",
      "[3]\tvalidation-rmse:6.67461                                                   \n",
      "[4]\tvalidation-rmse:6.65400                                                   \n",
      "[5]\tvalidation-rmse:6.63615                                                   \n",
      "[6]\tvalidation-rmse:6.62650                                                   \n",
      "[7]\tvalidation-rmse:6.61861                                                   \n",
      "[8]\tvalidation-rmse:6.61396                                                   \n",
      "[9]\tvalidation-rmse:6.60992                                                   \n",
      " 30%|███       | 15/50 [01:26<03:13,  5.52s/trial, best loss: 6.4429131051199]"
     ]
    },
    {
     "name": "stderr",
     "output_type": "stream",
     "text": [
      "/Users/bastienwinant/Desktop/projects/mlops-zoomcamp/.env/lib/python3.9/site-packages/xgboost/core.py:160: UserWarning: [08:48:38] WARNING: /Users/runner/work/xgboost/xgboost/src/objective/regression_obj.cu:209: reg:linear is now deprecated in favor of reg:squarederror.\n",
      "  warnings.warn(smsg, UserWarning)\n",
      "\n"
     ]
    },
    {
     "name": "stdout",
     "output_type": "stream",
     "text": [
      "[0]\tvalidation-rmse:11.27085                                                  \n",
      "[1]\tvalidation-rmse:10.47599                                                  \n",
      "[2]\tvalidation-rmse:9.80961                                                   \n",
      "[3]\tvalidation-rmse:9.25411                                                   \n",
      "[4]\tvalidation-rmse:8.79337                                                   \n",
      "[5]\tvalidation-rmse:8.41384                                                   \n",
      "[6]\tvalidation-rmse:8.10237                                                   \n",
      "[7]\tvalidation-rmse:7.84807                                                   \n",
      "[8]\tvalidation-rmse:7.63936                                                   \n",
      "[9]\tvalidation-rmse:7.46929                                                   \n",
      " 32%|███▏      | 16/50 [01:28<02:32,  4.48s/trial, best loss: 6.4429131051199]"
     ]
    },
    {
     "name": "stderr",
     "output_type": "stream",
     "text": [
      "/Users/bastienwinant/Desktop/projects/mlops-zoomcamp/.env/lib/python3.9/site-packages/xgboost/core.py:160: UserWarning: [08:48:40] WARNING: /Users/runner/work/xgboost/xgboost/src/objective/regression_obj.cu:209: reg:linear is now deprecated in favor of reg:squarederror.\n",
      "  warnings.warn(smsg, UserWarning)\n",
      "\n"
     ]
    },
    {
     "name": "stdout",
     "output_type": "stream",
     "text": [
      "[0]\tvalidation-rmse:10.37543                                                  \n",
      "[1]\tvalidation-rmse:9.09001                                                   \n",
      "[2]\tvalidation-rmse:8.21037                                                   \n",
      "[3]\tvalidation-rmse:7.62256                                                   \n",
      "[4]\tvalidation-rmse:7.23700                                                   \n",
      "[5]\tvalidation-rmse:6.98106                                                   \n",
      "[6]\tvalidation-rmse:6.81598                                                   \n",
      "[7]\tvalidation-rmse:6.70274                                                   \n",
      "[8]\tvalidation-rmse:6.62709                                                   \n",
      "[9]\tvalidation-rmse:6.57435                                                   \n",
      " 34%|███▍      | 17/50 [01:41<03:50,  7.00s/trial, best loss: 6.4429131051199]"
     ]
    },
    {
     "name": "stderr",
     "output_type": "stream",
     "text": [
      "/Users/bastienwinant/Desktop/projects/mlops-zoomcamp/.env/lib/python3.9/site-packages/xgboost/core.py:160: UserWarning: [08:48:53] WARNING: /Users/runner/work/xgboost/xgboost/src/objective/regression_obj.cu:209: reg:linear is now deprecated in favor of reg:squarederror.\n",
      "  warnings.warn(smsg, UserWarning)\n",
      "\n"
     ]
    },
    {
     "name": "stdout",
     "output_type": "stream",
     "text": [
      "[0]\tvalidation-rmse:9.98975                                                   \n",
      "[1]\tvalidation-rmse:8.62387                                                   \n",
      "[2]\tvalidation-rmse:7.81795                                                   \n",
      "[3]\tvalidation-rmse:7.35275                                                   \n",
      "[4]\tvalidation-rmse:7.08622                                                   \n",
      "[5]\tvalidation-rmse:6.93412                                                   \n",
      "[6]\tvalidation-rmse:6.83900                                                   \n",
      "[7]\tvalidation-rmse:6.78031                                                   \n",
      "[8]\tvalidation-rmse:6.74214                                                   \n",
      "[9]\tvalidation-rmse:6.71737                                                   \n",
      " 36%|███▌      | 18/50 [01:44<03:02,  5.71s/trial, best loss: 6.4429131051199]"
     ]
    },
    {
     "name": "stderr",
     "output_type": "stream",
     "text": [
      "/Users/bastienwinant/Desktop/projects/mlops-zoomcamp/.env/lib/python3.9/site-packages/xgboost/core.py:160: UserWarning: [08:48:56] WARNING: /Users/runner/work/xgboost/xgboost/src/objective/regression_obj.cu:209: reg:linear is now deprecated in favor of reg:squarederror.\n",
      "  warnings.warn(smsg, UserWarning)\n",
      "\n"
     ]
    },
    {
     "name": "stdout",
     "output_type": "stream",
     "text": [
      "[0]\tvalidation-rmse:8.06944                                                   \n",
      "[1]\tvalidation-rmse:6.90472                                                   \n",
      "[2]\tvalidation-rmse:6.60248                                                   \n",
      "[3]\tvalidation-rmse:6.50762                                                   \n",
      "[4]\tvalidation-rmse:6.46705                                                   \n",
      "[5]\tvalidation-rmse:6.44972                                                   \n",
      "[6]\tvalidation-rmse:6.44022                                                   \n",
      "[7]\tvalidation-rmse:6.43580                                                   \n",
      "[8]\tvalidation-rmse:6.42935                                                   \n",
      "[9]\tvalidation-rmse:6.42390                                                   \n",
      " 38%|███▊      | 19/50 [01:51<03:14,  6.28s/trial, best loss: 6.423900650655789]"
     ]
    },
    {
     "name": "stderr",
     "output_type": "stream",
     "text": [
      "/Users/bastienwinant/Desktop/projects/mlops-zoomcamp/.env/lib/python3.9/site-packages/xgboost/core.py:160: UserWarning: [08:49:03] WARNING: /Users/runner/work/xgboost/xgboost/src/objective/regression_obj.cu:209: reg:linear is now deprecated in favor of reg:squarederror.\n",
      "  warnings.warn(smsg, UserWarning)\n",
      "\n"
     ]
    },
    {
     "name": "stdout",
     "output_type": "stream",
     "text": [
      "[0]\tvalidation-rmse:11.19499                                                    \n",
      "[1]\tvalidation-rmse:10.34490                                                    \n",
      "[2]\tvalidation-rmse:9.64171                                                     \n",
      "[3]\tvalidation-rmse:9.06450                                                     \n",
      "[4]\tvalidation-rmse:8.58918                                                     \n",
      "[5]\tvalidation-rmse:8.20500                                                     \n",
      "[6]\tvalidation-rmse:7.89176                                                     \n",
      "[7]\tvalidation-rmse:7.64031                                                     \n",
      "[8]\tvalidation-rmse:7.43774                                                     \n",
      "[9]\tvalidation-rmse:7.27468                                                     \n",
      " 40%|████      | 20/50 [01:55<02:47,  5.57s/trial, best loss: 6.423900650655789]"
     ]
    },
    {
     "name": "stderr",
     "output_type": "stream",
     "text": [
      "/Users/bastienwinant/Desktop/projects/mlops-zoomcamp/.env/lib/python3.9/site-packages/xgboost/core.py:160: UserWarning: [08:49:07] WARNING: /Users/runner/work/xgboost/xgboost/src/objective/regression_obj.cu:209: reg:linear is now deprecated in favor of reg:squarederror.\n",
      "  warnings.warn(smsg, UserWarning)\n",
      "\n"
     ]
    },
    {
     "name": "stdout",
     "output_type": "stream",
     "text": [
      "[0]\tvalidation-rmse:6.60231                                                     \n",
      "[1]\tvalidation-rmse:6.57404                                                     \n",
      "[2]\tvalidation-rmse:6.54452                                                     \n",
      "[3]\tvalidation-rmse:6.52366                                                     \n",
      "[4]\tvalidation-rmse:6.50687                                                     \n",
      "[5]\tvalidation-rmse:6.49715                                                     \n",
      "[6]\tvalidation-rmse:6.48514                                                     \n",
      "[7]\tvalidation-rmse:6.47408                                                     \n",
      "[8]\tvalidation-rmse:6.45972                                                     \n",
      "[9]\tvalidation-rmse:6.45435                                                     \n",
      " 42%|████▏     | 21/50 [01:57<02:11,  4.54s/trial, best loss: 6.423900650655789]"
     ]
    },
    {
     "name": "stderr",
     "output_type": "stream",
     "text": [
      "/Users/bastienwinant/Desktop/projects/mlops-zoomcamp/.env/lib/python3.9/site-packages/xgboost/core.py:160: UserWarning: [08:49:09] WARNING: /Users/runner/work/xgboost/xgboost/src/objective/regression_obj.cu:209: reg:linear is now deprecated in favor of reg:squarederror.\n",
      "  warnings.warn(smsg, UserWarning)\n",
      "\n"
     ]
    },
    {
     "name": "stdout",
     "output_type": "stream",
     "text": [
      "[0]\tvalidation-rmse:9.59822                                                     \n",
      "[1]\tvalidation-rmse:8.13682                                                     \n",
      "[2]\tvalidation-rmse:7.36159                                                     \n",
      "[3]\tvalidation-rmse:6.96201                                                     \n",
      "[4]\tvalidation-rmse:6.75135                                                     \n",
      "[5]\tvalidation-rmse:6.63724                                                     \n",
      "[6]\tvalidation-rmse:6.57225                                                     \n",
      "[7]\tvalidation-rmse:6.52931                                                     \n",
      "[8]\tvalidation-rmse:6.50383                                                     \n",
      "[9]\tvalidation-rmse:6.48698                                                     \n",
      " 44%|████▍     | 22/50 [02:05<02:28,  5.30s/trial, best loss: 6.423900650655789]"
     ]
    },
    {
     "name": "stderr",
     "output_type": "stream",
     "text": [
      "/Users/bastienwinant/Desktop/projects/mlops-zoomcamp/.env/lib/python3.9/site-packages/xgboost/core.py:160: UserWarning: [08:49:17] WARNING: /Users/runner/work/xgboost/xgboost/src/objective/regression_obj.cu:209: reg:linear is now deprecated in favor of reg:squarederror.\n",
      "  warnings.warn(smsg, UserWarning)\n",
      "\n"
     ]
    },
    {
     "name": "stdout",
     "output_type": "stream",
     "text": [
      "[0]\tvalidation-rmse:6.64247                                                     \n",
      "[1]\tvalidation-rmse:6.57478                                                     \n",
      "[2]\tvalidation-rmse:6.55885                                                     \n",
      "[3]\tvalidation-rmse:6.54752                                                     \n",
      "[4]\tvalidation-rmse:6.53259                                                     \n",
      "[5]\tvalidation-rmse:6.52654                                                     \n",
      "[6]\tvalidation-rmse:6.51164                                                     \n",
      "[7]\tvalidation-rmse:6.50163                                                     \n",
      "[8]\tvalidation-rmse:6.49215                                                     \n",
      "[9]\tvalidation-rmse:6.48757                                                     \n",
      " 46%|████▌     | 23/50 [02:07<02:01,  4.50s/trial, best loss: 6.423900650655789]"
     ]
    },
    {
     "name": "stderr",
     "output_type": "stream",
     "text": [
      "/Users/bastienwinant/Desktop/projects/mlops-zoomcamp/.env/lib/python3.9/site-packages/xgboost/core.py:160: UserWarning: [08:49:19] WARNING: /Users/runner/work/xgboost/xgboost/src/objective/regression_obj.cu:209: reg:linear is now deprecated in favor of reg:squarederror.\n",
      "  warnings.warn(smsg, UserWarning)\n",
      "\n"
     ]
    },
    {
     "name": "stdout",
     "output_type": "stream",
     "text": [
      "[0]\tvalidation-rmse:7.13037                                                     \n",
      "[1]\tvalidation-rmse:6.64494                                                     \n",
      "[2]\tvalidation-rmse:6.56726                                                     \n",
      "[3]\tvalidation-rmse:6.54690                                                     \n",
      "[4]\tvalidation-rmse:6.54183                                                     \n",
      "[5]\tvalidation-rmse:6.53062                                                     \n",
      "[6]\tvalidation-rmse:6.51991                                                     \n",
      "[7]\tvalidation-rmse:6.51178                                                     \n",
      "[8]\tvalidation-rmse:6.50500                                                     \n",
      "[9]\tvalidation-rmse:6.50129                                                     \n",
      " 48%|████▊     | 24/50 [02:10<01:41,  3.90s/trial, best loss: 6.423900650655789]"
     ]
    },
    {
     "name": "stderr",
     "output_type": "stream",
     "text": [
      "/Users/bastienwinant/Desktop/projects/mlops-zoomcamp/.env/lib/python3.9/site-packages/xgboost/core.py:160: UserWarning: [08:49:22] WARNING: /Users/runner/work/xgboost/xgboost/src/objective/regression_obj.cu:209: reg:linear is now deprecated in favor of reg:squarederror.\n",
      "  warnings.warn(smsg, UserWarning)\n",
      "\n"
     ]
    },
    {
     "name": "stdout",
     "output_type": "stream",
     "text": [
      "[0]\tvalidation-rmse:9.45703                                                     \n",
      "[1]\tvalidation-rmse:8.02901                                                     \n",
      "[2]\tvalidation-rmse:7.29556                                                     \n",
      "[3]\tvalidation-rmse:6.94557                                                     \n",
      "[4]\tvalidation-rmse:6.77416                                                     \n",
      "[5]\tvalidation-rmse:6.67389                                                     \n",
      "[6]\tvalidation-rmse:6.62247                                                     \n",
      "[7]\tvalidation-rmse:6.58179                                                     \n",
      "[8]\tvalidation-rmse:6.56233                                                     \n",
      "[9]\tvalidation-rmse:6.54759                                                     \n",
      " 50%|█████     | 25/50 [02:22<02:42,  6.51s/trial, best loss: 6.423900650655789]"
     ]
    },
    {
     "name": "stderr",
     "output_type": "stream",
     "text": [
      "/Users/bastienwinant/Desktop/projects/mlops-zoomcamp/.env/lib/python3.9/site-packages/xgboost/core.py:160: UserWarning: [08:49:34] WARNING: /Users/runner/work/xgboost/xgboost/src/objective/regression_obj.cu:209: reg:linear is now deprecated in favor of reg:squarederror.\n",
      "  warnings.warn(smsg, UserWarning)\n",
      "\n"
     ]
    },
    {
     "name": "stdout",
     "output_type": "stream",
     "text": [
      "[0]\tvalidation-rmse:8.15012                                                     \n",
      "[1]\tvalidation-rmse:6.98608                                                     \n",
      "[2]\tvalidation-rmse:6.66920                                                     \n",
      "[3]\tvalidation-rmse:6.56730                                                     \n",
      "[4]\tvalidation-rmse:6.51745                                                     \n",
      "[5]\tvalidation-rmse:6.49112                                                     \n",
      "[6]\tvalidation-rmse:6.47192                                                     \n",
      "[7]\tvalidation-rmse:6.46570                                                     \n",
      "[8]\tvalidation-rmse:6.45871                                                     \n",
      "[9]\tvalidation-rmse:6.45399                                                     \n",
      " 52%|█████▏    | 26/50 [02:26<02:15,  5.65s/trial, best loss: 6.423900650655789]"
     ]
    },
    {
     "name": "stderr",
     "output_type": "stream",
     "text": [
      "/Users/bastienwinant/Desktop/projects/mlops-zoomcamp/.env/lib/python3.9/site-packages/xgboost/core.py:160: UserWarning: [08:49:38] WARNING: /Users/runner/work/xgboost/xgboost/src/objective/regression_obj.cu:209: reg:linear is now deprecated in favor of reg:squarederror.\n",
      "  warnings.warn(smsg, UserWarning)\n",
      "\n"
     ]
    },
    {
     "name": "stdout",
     "output_type": "stream",
     "text": [
      "[0]\tvalidation-rmse:6.80002                                                     \n",
      "[1]\tvalidation-rmse:6.57228                                                     \n",
      "[2]\tvalidation-rmse:6.54012                                                     \n",
      "[3]\tvalidation-rmse:6.53718                                                     \n",
      "[4]\tvalidation-rmse:6.52635                                                     \n",
      "[5]\tvalidation-rmse:6.52070                                                     \n",
      "[6]\tvalidation-rmse:6.50630                                                     \n",
      "[7]\tvalidation-rmse:6.49892                                                     \n",
      "[8]\tvalidation-rmse:6.49714                                                     \n",
      "[9]\tvalidation-rmse:6.49565                                                     \n",
      " 54%|█████▍    | 27/50 [02:30<01:57,  5.10s/trial, best loss: 6.423900650655789]"
     ]
    },
    {
     "name": "stderr",
     "output_type": "stream",
     "text": [
      "/Users/bastienwinant/Desktop/projects/mlops-zoomcamp/.env/lib/python3.9/site-packages/xgboost/core.py:160: UserWarning: [08:49:42] WARNING: /Users/runner/work/xgboost/xgboost/src/objective/regression_obj.cu:209: reg:linear is now deprecated in favor of reg:squarederror.\n",
      "  warnings.warn(smsg, UserWarning)\n",
      "\n"
     ]
    },
    {
     "name": "stdout",
     "output_type": "stream",
     "text": [
      "[0]\tvalidation-rmse:8.84410                                                     \n",
      "[1]\tvalidation-rmse:7.48948                                                     \n",
      "[2]\tvalidation-rmse:6.95618                                                     \n",
      "[3]\tvalidation-rmse:6.74085                                                     \n",
      "[4]\tvalidation-rmse:6.64313                                                     \n",
      "[5]\tvalidation-rmse:6.59959                                                     \n",
      "[6]\tvalidation-rmse:6.57176                                                     \n",
      "[7]\tvalidation-rmse:6.55314                                                     \n",
      "[8]\tvalidation-rmse:6.53914                                                     \n",
      "[9]\tvalidation-rmse:6.52950                                                     \n",
      " 56%|█████▌    | 28/50 [02:39<02:22,  6.46s/trial, best loss: 6.423900650655789]"
     ]
    },
    {
     "name": "stderr",
     "output_type": "stream",
     "text": [
      "/Users/bastienwinant/Desktop/projects/mlops-zoomcamp/.env/lib/python3.9/site-packages/xgboost/core.py:160: UserWarning: [08:49:51] WARNING: /Users/runner/work/xgboost/xgboost/src/objective/regression_obj.cu:209: reg:linear is now deprecated in favor of reg:squarederror.\n",
      "  warnings.warn(smsg, UserWarning)\n",
      "\n"
     ]
    },
    {
     "name": "stdout",
     "output_type": "stream",
     "text": [
      "[0]\tvalidation-rmse:7.70351                                                     \n",
      "[1]\tvalidation-rmse:6.74639                                                     \n",
      "[2]\tvalidation-rmse:6.54957                                                     \n",
      "[3]\tvalidation-rmse:6.48710                                                     \n",
      "[4]\tvalidation-rmse:6.46450                                                     \n",
      "[5]\tvalidation-rmse:6.45129                                                     \n",
      "[6]\tvalidation-rmse:6.44328                                                     \n",
      "[7]\tvalidation-rmse:6.43797                                                     \n",
      "[8]\tvalidation-rmse:6.43223                                                     \n",
      "[9]\tvalidation-rmse:6.42590                                                     \n",
      " 58%|█████▊    | 29/50 [02:45<02:10,  6.20s/trial, best loss: 6.423900650655789]"
     ]
    },
    {
     "name": "stderr",
     "output_type": "stream",
     "text": [
      "/Users/bastienwinant/Desktop/projects/mlops-zoomcamp/.env/lib/python3.9/site-packages/xgboost/core.py:160: UserWarning: [08:49:57] WARNING: /Users/runner/work/xgboost/xgboost/src/objective/regression_obj.cu:209: reg:linear is now deprecated in favor of reg:squarederror.\n",
      "  warnings.warn(smsg, UserWarning)\n",
      "\n"
     ]
    },
    {
     "name": "stdout",
     "output_type": "stream",
     "text": [
      "[0]\tvalidation-rmse:7.79851                                                     \n",
      "[1]\tvalidation-rmse:6.78354                                                     \n",
      "[2]\tvalidation-rmse:6.56213                                                     \n",
      "[3]\tvalidation-rmse:6.49814                                                     \n",
      "[4]\tvalidation-rmse:6.47087                                                     \n",
      "[5]\tvalidation-rmse:6.45796                                                     \n",
      "[6]\tvalidation-rmse:6.45070                                                     \n",
      "[7]\tvalidation-rmse:6.44216                                                     \n",
      "[8]\tvalidation-rmse:6.43441                                                     \n",
      "[9]\tvalidation-rmse:6.43014                                                     \n",
      " 60%|██████    | 30/50 [02:52<02:06,  6.33s/trial, best loss: 6.423900650655789]"
     ]
    },
    {
     "name": "stderr",
     "output_type": "stream",
     "text": [
      "/Users/bastienwinant/Desktop/projects/mlops-zoomcamp/.env/lib/python3.9/site-packages/xgboost/core.py:160: UserWarning: [08:50:04] WARNING: /Users/runner/work/xgboost/xgboost/src/objective/regression_obj.cu:209: reg:linear is now deprecated in favor of reg:squarederror.\n",
      "  warnings.warn(smsg, UserWarning)\n",
      "\n"
     ]
    },
    {
     "name": "stdout",
     "output_type": "stream",
     "text": [
      "[0]\tvalidation-rmse:9.40273                                                     \n",
      "[1]\tvalidation-rmse:7.98516                                                     \n",
      "[2]\tvalidation-rmse:7.25249                                                     \n",
      "[3]\tvalidation-rmse:6.92022                                                     \n",
      "[4]\tvalidation-rmse:6.75991                                                     \n",
      "[5]\tvalidation-rmse:6.65896                                                     \n",
      "[6]\tvalidation-rmse:6.60418                                                     \n",
      "[7]\tvalidation-rmse:6.57881                                                     \n",
      "[8]\tvalidation-rmse:6.55927                                                     \n",
      "[9]\tvalidation-rmse:6.54726                                                     \n",
      " 62%|██████▏   | 31/50 [03:05<02:42,  8.56s/trial, best loss: 6.423900650655789]"
     ]
    },
    {
     "name": "stderr",
     "output_type": "stream",
     "text": [
      "/Users/bastienwinant/Desktop/projects/mlops-zoomcamp/.env/lib/python3.9/site-packages/xgboost/core.py:160: UserWarning: [08:50:17] WARNING: /Users/runner/work/xgboost/xgboost/src/objective/regression_obj.cu:209: reg:linear is now deprecated in favor of reg:squarederror.\n",
      "  warnings.warn(smsg, UserWarning)\n",
      "\n"
     ]
    },
    {
     "name": "stdout",
     "output_type": "stream",
     "text": [
      "[0]\tvalidation-rmse:7.10375                                                     \n",
      "[1]\tvalidation-rmse:6.60243                                                     \n",
      "[2]\tvalidation-rmse:6.52226                                                     \n",
      "[3]\tvalidation-rmse:6.50008                                                     \n",
      "[4]\tvalidation-rmse:6.48705                                                     \n",
      "[5]\tvalidation-rmse:6.47602                                                     \n",
      "[6]\tvalidation-rmse:6.46700                                                     \n",
      "[7]\tvalidation-rmse:6.45953                                                     \n",
      "[8]\tvalidation-rmse:6.45058                                                     \n",
      "[9]\tvalidation-rmse:6.44535                                                     \n",
      " 64%|██████▍   | 32/50 [03:09<02:06,  7.05s/trial, best loss: 6.423900650655789]"
     ]
    },
    {
     "name": "stderr",
     "output_type": "stream",
     "text": [
      "/Users/bastienwinant/Desktop/projects/mlops-zoomcamp/.env/lib/python3.9/site-packages/xgboost/core.py:160: UserWarning: [08:50:21] WARNING: /Users/runner/work/xgboost/xgboost/src/objective/regression_obj.cu:209: reg:linear is now deprecated in favor of reg:squarederror.\n",
      "  warnings.warn(smsg, UserWarning)\n",
      "\n"
     ]
    },
    {
     "name": "stdout",
     "output_type": "stream",
     "text": [
      "[0]\tvalidation-rmse:8.52927                                                     \n",
      "[1]\tvalidation-rmse:7.25179                                                     \n",
      "[2]\tvalidation-rmse:6.83888                                                     \n",
      "[3]\tvalidation-rmse:6.68365                                                     \n",
      "[4]\tvalidation-rmse:6.62512                                                     \n",
      "[5]\tvalidation-rmse:6.59610                                                     \n",
      "[6]\tvalidation-rmse:6.57559                                                     \n",
      "[7]\tvalidation-rmse:6.56615                                                     \n",
      "[8]\tvalidation-rmse:6.55986                                                     \n",
      "[9]\tvalidation-rmse:6.55523                                                     \n",
      " 66%|██████▌   | 33/50 [03:21<02:23,  8.45s/trial, best loss: 6.423900650655789]"
     ]
    },
    {
     "name": "stderr",
     "output_type": "stream",
     "text": [
      "/Users/bastienwinant/Desktop/projects/mlops-zoomcamp/.env/lib/python3.9/site-packages/xgboost/core.py:160: UserWarning: [08:50:33] WARNING: /Users/runner/work/xgboost/xgboost/src/objective/regression_obj.cu:209: reg:linear is now deprecated in favor of reg:squarederror.\n",
      "  warnings.warn(smsg, UserWarning)\n",
      "\n"
     ]
    },
    {
     "name": "stdout",
     "output_type": "stream",
     "text": [
      "[0]\tvalidation-rmse:9.93910                                                     \n",
      "[1]\tvalidation-rmse:8.55908                                                     \n",
      "[2]\tvalidation-rmse:7.72339                                                     \n",
      "[3]\tvalidation-rmse:7.24818                                                     \n",
      "[4]\tvalidation-rmse:6.98638                                                     \n",
      "[5]\tvalidation-rmse:6.82188                                                     \n",
      "[6]\tvalidation-rmse:6.71414                                                     \n",
      "[7]\tvalidation-rmse:6.65849                                                     \n",
      "[8]\tvalidation-rmse:6.61711                                                     \n",
      "[9]\tvalidation-rmse:6.58960                                                     \n",
      "[0]\tvalidation-rmse:10.95326                                                    \n",
      "[1]\tvalidation-rmse:9.96644                                                     \n",
      "[2]\tvalidation-rmse:9.20046                                                     \n",
      "[3]\tvalidation-rmse:8.61691                                                     \n",
      "[4]\tvalidation-rmse:8.17603                                                     \n",
      "[5]\tvalidation-rmse:7.84561                                                     \n",
      " 68%|██████▊   | 34/50 [03:35<02:43, 10.19s/trial, best loss: 6.423900650655789]"
     ]
    },
    {
     "name": "stderr",
     "output_type": "stream",
     "text": [
      "/Users/bastienwinant/Desktop/projects/mlops-zoomcamp/.env/lib/python3.9/site-packages/xgboost/core.py:160: UserWarning: [08:50:47] WARNING: /Users/runner/work/xgboost/xgboost/src/objective/regression_obj.cu:209: reg:linear is now deprecated in favor of reg:squarederror.\n",
      "  warnings.warn(smsg, UserWarning)\n",
      "\n"
     ]
    },
    {
     "name": "stdout",
     "output_type": "stream",
     "text": [
      "[6]\tvalidation-rmse:7.59391                                                     \n",
      "[7]\tvalidation-rmse:7.40821                                                     \n",
      "[8]\tvalidation-rmse:7.26651                                                     \n",
      "[9]\tvalidation-rmse:7.16017                                                     \n",
      " 70%|███████   | 35/50 [03:35<01:49,  7.28s/trial, best loss: 6.423900650655789]"
     ]
    },
    {
     "name": "stderr",
     "output_type": "stream",
     "text": [
      "/Users/bastienwinant/Desktop/projects/mlops-zoomcamp/.env/lib/python3.9/site-packages/xgboost/core.py:160: UserWarning: [08:50:47] WARNING: /Users/runner/work/xgboost/xgboost/src/objective/regression_obj.cu:209: reg:linear is now deprecated in favor of reg:squarederror.\n",
      "  warnings.warn(smsg, UserWarning)\n",
      "\n"
     ]
    },
    {
     "name": "stdout",
     "output_type": "stream",
     "text": [
      "[0]\tvalidation-rmse:9.04035                                                     \n",
      "[1]\tvalidation-rmse:7.64314                                                     \n",
      "[2]\tvalidation-rmse:7.05960                                                     \n",
      "[3]\tvalidation-rmse:6.80603                                                     \n",
      "[4]\tvalidation-rmse:6.69175                                                     \n",
      "[5]\tvalidation-rmse:6.63373                                                     \n",
      "[6]\tvalidation-rmse:6.60414                                                     \n",
      "[7]\tvalidation-rmse:6.58732                                                     \n",
      "[8]\tvalidation-rmse:6.57615                                                     \n",
      "[9]\tvalidation-rmse:6.56745                                                     \n",
      " 72%|███████▏  | 36/50 [03:43<01:41,  7.26s/trial, best loss: 6.423900650655789]"
     ]
    },
    {
     "name": "stderr",
     "output_type": "stream",
     "text": [
      "/Users/bastienwinant/Desktop/projects/mlops-zoomcamp/.env/lib/python3.9/site-packages/xgboost/core.py:160: UserWarning: [08:50:55] WARNING: /Users/runner/work/xgboost/xgboost/src/objective/regression_obj.cu:209: reg:linear is now deprecated in favor of reg:squarederror.\n",
      "  warnings.warn(smsg, UserWarning)\n",
      "\n"
     ]
    },
    {
     "name": "stdout",
     "output_type": "stream",
     "text": [
      "[0]\tvalidation-rmse:6.80123                                                     \n",
      "[1]\tvalidation-rmse:6.53451                                                     \n",
      "[2]\tvalidation-rmse:6.51403                                                     \n",
      "[3]\tvalidation-rmse:6.51085                                                     \n",
      "[4]\tvalidation-rmse:6.50053                                                     \n",
      "[5]\tvalidation-rmse:6.49323                                                     \n",
      "[6]\tvalidation-rmse:6.48280                                                     \n",
      "[7]\tvalidation-rmse:6.47963                                                     \n",
      "[8]\tvalidation-rmse:6.47418                                                     \n",
      "[9]\tvalidation-rmse:6.46535                                                     \n",
      " 74%|███████▍  | 37/50 [03:47<01:24,  6.46s/trial, best loss: 6.423900650655789]"
     ]
    },
    {
     "name": "stderr",
     "output_type": "stream",
     "text": [
      "/Users/bastienwinant/Desktop/projects/mlops-zoomcamp/.env/lib/python3.9/site-packages/xgboost/core.py:160: UserWarning: [08:50:59] WARNING: /Users/runner/work/xgboost/xgboost/src/objective/regression_obj.cu:209: reg:linear is now deprecated in favor of reg:squarederror.\n",
      "  warnings.warn(smsg, UserWarning)\n",
      "\n"
     ]
    },
    {
     "name": "stdout",
     "output_type": "stream",
     "text": [
      "[0]\tvalidation-rmse:9.98081                                                     \n",
      "[1]\tvalidation-rmse:8.58734                                                     \n",
      "[2]\tvalidation-rmse:7.74811                                                     \n",
      "[3]\tvalidation-rmse:7.25497                                                     \n",
      "[4]\tvalidation-rmse:6.97062                                                     \n",
      "[5]\tvalidation-rmse:6.80301                                                     \n",
      "[6]\tvalidation-rmse:6.70441                                                     \n",
      "[7]\tvalidation-rmse:6.64163                                                     \n",
      "[8]\tvalidation-rmse:6.60295                                                     \n",
      "[9]\tvalidation-rmse:6.57276                                                     \n",
      "[0]\tvalidation-rmse:8.21373                                                     \n",
      "[1]\tvalidation-rmse:7.16429                                                     \n",
      "[2]\tvalidation-rmse:6.90774                                                     \n",
      "[3]\tvalidation-rmse:6.82822                                                     \n",
      " 76%|███████▌  | 38/50 [03:51<01:07,  5.59s/trial, best loss: 6.423900650655789]"
     ]
    },
    {
     "name": "stderr",
     "output_type": "stream",
     "text": [
      "/Users/bastienwinant/Desktop/projects/mlops-zoomcamp/.env/lib/python3.9/site-packages/xgboost/core.py:160: UserWarning: [08:51:03] WARNING: /Users/runner/work/xgboost/xgboost/src/objective/regression_obj.cu:209: reg:linear is now deprecated in favor of reg:squarederror.\n",
      "  warnings.warn(smsg, UserWarning)\n",
      "\n"
     ]
    },
    {
     "name": "stdout",
     "output_type": "stream",
     "text": [
      "[4]\tvalidation-rmse:6.79637                                                     \n",
      "[5]\tvalidation-rmse:6.78400                                                     \n",
      "[6]\tvalidation-rmse:6.77726                                                     \n",
      "[7]\tvalidation-rmse:6.76827                                                     \n",
      "[8]\tvalidation-rmse:6.76320                                                     \n",
      "[9]\tvalidation-rmse:6.75999                                                     \n",
      " 78%|███████▊  | 39/50 [03:51<00:44,  4.06s/trial, best loss: 6.423900650655789]"
     ]
    },
    {
     "name": "stderr",
     "output_type": "stream",
     "text": [
      "/Users/bastienwinant/Desktop/projects/mlops-zoomcamp/.env/lib/python3.9/site-packages/xgboost/core.py:160: UserWarning: [08:51:03] WARNING: /Users/runner/work/xgboost/xgboost/src/objective/regression_obj.cu:209: reg:linear is now deprecated in favor of reg:squarederror.\n",
      "  warnings.warn(smsg, UserWarning)\n",
      "\n"
     ]
    },
    {
     "name": "stdout",
     "output_type": "stream",
     "text": [
      "[0]\tvalidation-rmse:10.61152                                                    \n",
      "[1]\tvalidation-rmse:9.42687                                                     \n",
      "[2]\tvalidation-rmse:8.56255                                                     \n",
      "[3]\tvalidation-rmse:7.94269                                                     \n",
      "[4]\tvalidation-rmse:7.50447                                                     \n",
      "[5]\tvalidation-rmse:7.19913                                                     \n",
      "[6]\tvalidation-rmse:6.98206                                                     \n",
      "[7]\tvalidation-rmse:6.83116                                                     \n",
      "[8]\tvalidation-rmse:6.72511                                                     \n",
      "[9]\tvalidation-rmse:6.64945                                                     \n",
      " 80%|████████  | 40/50 [04:04<01:06,  6.69s/trial, best loss: 6.423900650655789]"
     ]
    },
    {
     "name": "stderr",
     "output_type": "stream",
     "text": [
      "/Users/bastienwinant/Desktop/projects/mlops-zoomcamp/.env/lib/python3.9/site-packages/xgboost/core.py:160: UserWarning: [08:51:16] WARNING: /Users/runner/work/xgboost/xgboost/src/objective/regression_obj.cu:209: reg:linear is now deprecated in favor of reg:squarederror.\n",
      "  warnings.warn(smsg, UserWarning)\n",
      "\n"
     ]
    },
    {
     "name": "stdout",
     "output_type": "stream",
     "text": [
      "[0]\tvalidation-rmse:7.52673                                                     \n",
      "[1]\tvalidation-rmse:6.80031                                                     \n",
      "[2]\tvalidation-rmse:6.65417                                                     \n",
      "[3]\tvalidation-rmse:6.60830                                                     \n",
      "[4]\tvalidation-rmse:6.58625                                                     \n",
      "[5]\tvalidation-rmse:6.57852                                                     \n",
      "[6]\tvalidation-rmse:6.57721                                                     \n",
      "[7]\tvalidation-rmse:6.57228                                                     \n",
      "[8]\tvalidation-rmse:6.56754                                                     \n",
      "[9]\tvalidation-rmse:6.56242                                                     \n",
      " 82%|████████▏ | 41/50 [04:09<00:56,  6.28s/trial, best loss: 6.423900650655789]"
     ]
    },
    {
     "name": "stderr",
     "output_type": "stream",
     "text": [
      "/Users/bastienwinant/Desktop/projects/mlops-zoomcamp/.env/lib/python3.9/site-packages/xgboost/core.py:160: UserWarning: [08:51:21] WARNING: /Users/runner/work/xgboost/xgboost/src/objective/regression_obj.cu:209: reg:linear is now deprecated in favor of reg:squarederror.\n",
      "  warnings.warn(smsg, UserWarning)\n",
      "\n"
     ]
    },
    {
     "name": "stdout",
     "output_type": "stream",
     "text": [
      "[0]\tvalidation-rmse:6.61718                                                     \n",
      "[1]\tvalidation-rmse:6.60816                                                     \n",
      "[2]\tvalidation-rmse:6.59386                                                     \n",
      "[3]\tvalidation-rmse:6.58435                                                     \n",
      "[4]\tvalidation-rmse:6.57444                                                     \n",
      "[5]\tvalidation-rmse:6.56339                                                     \n",
      "[6]\tvalidation-rmse:6.54995                                                     \n",
      "[7]\tvalidation-rmse:6.54216                                                     \n",
      "[8]\tvalidation-rmse:6.53496                                                     \n",
      "[9]\tvalidation-rmse:6.53541                                                     \n",
      " 84%|████████▍ | 42/50 [04:12<00:40,  5.06s/trial, best loss: 6.423900650655789]"
     ]
    },
    {
     "name": "stderr",
     "output_type": "stream",
     "text": [
      "/Users/bastienwinant/Desktop/projects/mlops-zoomcamp/.env/lib/python3.9/site-packages/xgboost/core.py:160: UserWarning: [08:51:24] WARNING: /Users/runner/work/xgboost/xgboost/src/objective/regression_obj.cu:209: reg:linear is now deprecated in favor of reg:squarederror.\n",
      "  warnings.warn(smsg, UserWarning)\n",
      "\n"
     ]
    },
    {
     "name": "stdout",
     "output_type": "stream",
     "text": [
      "[0]\tvalidation-rmse:8.61008                                                     \n",
      "[1]\tvalidation-rmse:7.25137                                                     \n",
      "[2]\tvalidation-rmse:6.77341                                                     \n",
      "[3]\tvalidation-rmse:6.60142                                                     \n",
      "[4]\tvalidation-rmse:6.52957                                                     \n",
      "[5]\tvalidation-rmse:6.48783                                                     \n",
      "[6]\tvalidation-rmse:6.47204                                                     \n",
      "[7]\tvalidation-rmse:6.46048                                                     \n",
      "[8]\tvalidation-rmse:6.45042                                                     \n",
      "[9]\tvalidation-rmse:6.44644                                                     \n",
      " 86%|████████▌ | 43/50 [04:17<00:36,  5.23s/trial, best loss: 6.423900650655789]"
     ]
    },
    {
     "name": "stderr",
     "output_type": "stream",
     "text": [
      "/Users/bastienwinant/Desktop/projects/mlops-zoomcamp/.env/lib/python3.9/site-packages/xgboost/core.py:160: UserWarning: [08:51:29] WARNING: /Users/runner/work/xgboost/xgboost/src/objective/regression_obj.cu:209: reg:linear is now deprecated in favor of reg:squarederror.\n",
      "  warnings.warn(smsg, UserWarning)\n",
      "\n"
     ]
    },
    {
     "name": "stdout",
     "output_type": "stream",
     "text": [
      "[0]\tvalidation-rmse:11.79109                                                    \n",
      "[1]\tvalidation-rmse:11.39785                                                    \n",
      "[2]\tvalidation-rmse:11.03193                                                    \n",
      "[3]\tvalidation-rmse:10.69185                                                    \n",
      "[4]\tvalidation-rmse:10.37583                                                    \n",
      "[5]\tvalidation-rmse:10.08258                                                    \n",
      "[6]\tvalidation-rmse:9.81075                                                     \n",
      "[7]\tvalidation-rmse:9.55904                                                     \n",
      "[8]\tvalidation-rmse:9.32608                                                     \n",
      "[9]\tvalidation-rmse:9.11100                                                     \n",
      " 88%|████████▊ | 44/50 [04:20<00:27,  4.55s/trial, best loss: 6.423900650655789]"
     ]
    },
    {
     "name": "stderr",
     "output_type": "stream",
     "text": [
      "/Users/bastienwinant/Desktop/projects/mlops-zoomcamp/.env/lib/python3.9/site-packages/xgboost/core.py:160: UserWarning: [08:51:32] WARNING: /Users/runner/work/xgboost/xgboost/src/objective/regression_obj.cu:209: reg:linear is now deprecated in favor of reg:squarederror.\n",
      "  warnings.warn(smsg, UserWarning)\n",
      "\n"
     ]
    },
    {
     "name": "stdout",
     "output_type": "stream",
     "text": [
      "[0]\tvalidation-rmse:9.26087                                                     \n",
      "[1]\tvalidation-rmse:7.82594                                                     \n",
      "[2]\tvalidation-rmse:7.15542                                                     \n",
      "[3]\tvalidation-rmse:6.85759                                                     \n",
      "[4]\tvalidation-rmse:6.72251                                                     \n",
      "[5]\tvalidation-rmse:6.63160                                                     \n",
      "[6]\tvalidation-rmse:6.58570                                                     \n",
      "[7]\tvalidation-rmse:6.55925                                                     \n",
      "[8]\tvalidation-rmse:6.54615                                                     \n",
      "[9]\tvalidation-rmse:6.53314                                                     \n",
      " 90%|█████████ | 45/50 [04:30<00:31,  6.27s/trial, best loss: 6.423900650655789]"
     ]
    },
    {
     "name": "stderr",
     "output_type": "stream",
     "text": [
      "/Users/bastienwinant/Desktop/projects/mlops-zoomcamp/.env/lib/python3.9/site-packages/xgboost/core.py:160: UserWarning: [08:51:42] WARNING: /Users/runner/work/xgboost/xgboost/src/objective/regression_obj.cu:209: reg:linear is now deprecated in favor of reg:squarederror.\n",
      "  warnings.warn(smsg, UserWarning)\n",
      "\n"
     ]
    },
    {
     "name": "stdout",
     "output_type": "stream",
     "text": [
      "[0]\tvalidation-rmse:10.71086                                                    \n",
      "[1]\tvalidation-rmse:9.59157                                                     \n",
      "[2]\tvalidation-rmse:8.75262                                                     \n",
      "[3]\tvalidation-rmse:8.14920                                                     \n",
      "[4]\tvalidation-rmse:7.70601                                                     \n",
      "[5]\tvalidation-rmse:7.38883                                                     \n",
      "[6]\tvalidation-rmse:7.17022                                                     \n",
      "[7]\tvalidation-rmse:7.00337                                                     \n",
      "[8]\tvalidation-rmse:6.89014                                                     \n",
      "[9]\tvalidation-rmse:6.80687                                                     \n",
      " 92%|█████████▏| 46/50 [04:46<00:36,  9.07s/trial, best loss: 6.423900650655789]"
     ]
    },
    {
     "name": "stderr",
     "output_type": "stream",
     "text": [
      "/Users/bastienwinant/Desktop/projects/mlops-zoomcamp/.env/lib/python3.9/site-packages/xgboost/core.py:160: UserWarning: [08:51:58] WARNING: /Users/runner/work/xgboost/xgboost/src/objective/regression_obj.cu:209: reg:linear is now deprecated in favor of reg:squarederror.\n",
      "  warnings.warn(smsg, UserWarning)\n",
      "\n"
     ]
    },
    {
     "name": "stdout",
     "output_type": "stream",
     "text": [
      "[0]\tvalidation-rmse:10.09631                                                    \n",
      "[1]\tvalidation-rmse:8.73289                                                     \n",
      "[2]\tvalidation-rmse:7.88298                                                     \n",
      "[3]\tvalidation-rmse:7.36551                                                     \n",
      "[4]\tvalidation-rmse:7.05485                                                     \n",
      "[5]\tvalidation-rmse:6.86593                                                     \n",
      "[6]\tvalidation-rmse:6.75007                                                     \n",
      "[7]\tvalidation-rmse:6.67764                                                     \n",
      "[8]\tvalidation-rmse:6.62679                                                     \n",
      "[9]\tvalidation-rmse:6.59411                                                     \n",
      " 94%|█████████▍| 47/50 [04:51<00:23,  7.88s/trial, best loss: 6.423900650655789]"
     ]
    },
    {
     "name": "stderr",
     "output_type": "stream",
     "text": [
      "/Users/bastienwinant/Desktop/projects/mlops-zoomcamp/.env/lib/python3.9/site-packages/xgboost/core.py:160: UserWarning: [08:52:03] WARNING: /Users/runner/work/xgboost/xgboost/src/objective/regression_obj.cu:209: reg:linear is now deprecated in favor of reg:squarederror.\n",
      "  warnings.warn(smsg, UserWarning)\n",
      "\n"
     ]
    },
    {
     "name": "stdout",
     "output_type": "stream",
     "text": [
      "[0]\tvalidation-rmse:11.11115                                                    \n",
      "[1]\tvalidation-rmse:10.21081                                                    \n",
      "[2]\tvalidation-rmse:9.47685                                                     \n",
      "[3]\tvalidation-rmse:8.88802                                                     \n",
      "[4]\tvalidation-rmse:8.41300                                                     \n",
      "[5]\tvalidation-rmse:8.03373                                                     \n",
      "[6]\tvalidation-rmse:7.73414                                                     \n",
      "[7]\tvalidation-rmse:7.50219                                                     \n",
      "[8]\tvalidation-rmse:7.31013                                                     \n",
      "[9]\tvalidation-rmse:7.16570                                                     \n",
      "[0]\tvalidation-rmse:8.42893                                                     \n",
      " 96%|█████████▌| 48/50 [05:01<00:16,  8.30s/trial, best loss: 6.423900650655789]"
     ]
    },
    {
     "name": "stderr",
     "output_type": "stream",
     "text": [
      "/Users/bastienwinant/Desktop/projects/mlops-zoomcamp/.env/lib/python3.9/site-packages/xgboost/core.py:160: UserWarning: [08:52:12] WARNING: /Users/runner/work/xgboost/xgboost/src/objective/regression_obj.cu:209: reg:linear is now deprecated in favor of reg:squarederror.\n",
      "  warnings.warn(smsg, UserWarning)\n",
      "\n"
     ]
    },
    {
     "name": "stdout",
     "output_type": "stream",
     "text": [
      "[1]\tvalidation-rmse:7.23589                                                     \n",
      "[2]\tvalidation-rmse:6.88818                                                     \n",
      "[3]\tvalidation-rmse:6.78706                                                     \n",
      "[4]\tvalidation-rmse:6.73037                                                     \n",
      "[5]\tvalidation-rmse:6.70956                                                     \n",
      "[6]\tvalidation-rmse:6.70335                                                     \n",
      "[7]\tvalidation-rmse:6.70151                                                     \n",
      "[8]\tvalidation-rmse:6.69548                                                     \n",
      "[9]\tvalidation-rmse:6.69295                                                     \n",
      " 98%|█████████▊| 49/50 [05:01<00:06,  6.12s/trial, best loss: 6.423900650655789]"
     ]
    },
    {
     "name": "stderr",
     "output_type": "stream",
     "text": [
      "/Users/bastienwinant/Desktop/projects/mlops-zoomcamp/.env/lib/python3.9/site-packages/xgboost/core.py:160: UserWarning: [08:52:13] WARNING: /Users/runner/work/xgboost/xgboost/src/objective/regression_obj.cu:209: reg:linear is now deprecated in favor of reg:squarederror.\n",
      "  warnings.warn(smsg, UserWarning)\n",
      "\n"
     ]
    },
    {
     "name": "stdout",
     "output_type": "stream",
     "text": [
      "[0]\tvalidation-rmse:7.30772                                                     \n",
      "[1]\tvalidation-rmse:6.70467                                                     \n",
      "[2]\tvalidation-rmse:6.59407                                                     \n",
      "[3]\tvalidation-rmse:6.55637                                                     \n",
      "[4]\tvalidation-rmse:6.53865                                                     \n",
      "[5]\tvalidation-rmse:6.52345                                                     \n",
      "[6]\tvalidation-rmse:6.51332                                                     \n",
      "[7]\tvalidation-rmse:6.50944                                                     \n",
      "[8]\tvalidation-rmse:6.50200                                                     \n",
      "[9]\tvalidation-rmse:6.49970                                                     \n",
      "100%|██████████| 50/50 [05:04<00:00,  6.10s/trial, best loss: 6.423900650655789]\n"
     ]
    }
   ],
   "source": [
    "search_space = {\n",
    "  'max_depth': scope.int(hp.quniform('max_depth', 4, 100, 1)),\n",
    "  'learning_rate': hp.loguniform('learning_rate', -3, 0),\n",
    "  'reg_alpha': hp.loguniform('reg_alpha', -5, -1),\n",
    "  'reg_lambda': hp.loguniform('reg_lambda', -6, -1),\n",
    "  'min_child_weight': hp.loguniform('min_child_weight', -1, 3),\n",
    "  'objective': 'reg:linear',\n",
    "  'seed': 42\n",
    "}\n",
    "\n",
    "best_result = fmin(\n",
    "  fn=objective,\n",
    "  space=search_space,\n",
    "  algo=tpe.suggest,\n",
    "  max_evals=50,\n",
    "  trials=Trials()\n",
    ")"
   ]
  },
  {
   "cell_type": "code",
   "execution_count": null,
   "metadata": {},
   "outputs": [],
   "source": []
  }
 ],
 "metadata": {
  "kernelspec": {
   "display_name": ".env",
   "language": "python",
   "name": "python3"
  },
  "language_info": {
   "codemirror_mode": {
    "name": "ipython",
    "version": 3
   },
   "file_extension": ".py",
   "mimetype": "text/x-python",
   "name": "python",
   "nbconvert_exporter": "python",
   "pygments_lexer": "ipython3",
   "version": "3.9.6"
  }
 },
 "nbformat": 4,
 "nbformat_minor": 2
}
