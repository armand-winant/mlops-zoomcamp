{
 "cells": [
  {
   "cell_type": "code",
   "execution_count": 2,
   "metadata": {},
   "outputs": [],
   "source": [
    "import mlflow\n"
   ]
  },
  {
   "cell_type": "code",
   "execution_count": 3,
   "metadata": {},
   "outputs": [
    {
     "data": {
      "text/plain": [
       "environ{'COMMAND_MODE': 'unix2003',\n",
       "        'ELECTRON_NO_ATTACH_CONSOLE': '1',\n",
       "        'HOME': '/Users/bastienwinant',\n",
       "        'LC_CTYPE': 'UTF-8',\n",
       "        'LOGNAME': 'bastienwinant',\n",
       "        'LaunchInstanceID': '06E3529C-80CC-420D-A65E-0EAE8AB82B2E',\n",
       "        'MallocNanoZone': '0',\n",
       "        'ORIGINAL_XDG_CURRENT_DESKTOP': 'undefined',\n",
       "        'PATH': '/Users/bastienwinant/Desktop/projects/mlops-zoomcamp/.env/bin:/usr/local/mysql/bin:/Users/bastienwinant/.npm-global/bin:/usr/local/bin:/System/Cryptexes/App/usr/bin:/usr/bin:/bin:/usr/sbin:/sbin:/var/run/com.apple.security.cryptexd/codex.system/bootstrap/usr/local/bin:/var/run/com.apple.security.cryptexd/codex.system/bootstrap/usr/bin:/var/run/com.apple.security.cryptexd/codex.system/bootstrap/usr/appleinternal/bin:/Library/Apple/usr/bin:/Users/bastienwinant/.cargo/bin',\n",
       "        'PWD': '/',\n",
       "        'SECURITYSESSIONID': '186a3',\n",
       "        'SHELL': '/bin/zsh',\n",
       "        'SHLVL': '3',\n",
       "        'SSH_AUTH_SOCK': '/private/tmp/com.apple.launchd.IrTHqkELEa/Listeners',\n",
       "        'TERM': 'xterm-color',\n",
       "        'TERM_PROGRAM': 'Apple_Terminal',\n",
       "        'TERM_PROGRAM_VERSION': '453',\n",
       "        'TERM_SESSION_ID': 'B62E7156-01C0-40E9-8277-2787DD75C015',\n",
       "        'TMPDIR': '/var/folders/87/zcq_b8352pg1_6l13vsrjj480000gn/T/',\n",
       "        'USER': 'bastienwinant',\n",
       "        'VSCODE_AMD_ENTRYPOINT': 'vs/workbench/api/node/extensionHostProcess',\n",
       "        'VSCODE_CLI': '1',\n",
       "        'VSCODE_CODE_CACHE_PATH': '/Users/bastienwinant/Library/Application Support/Code/CachedData/611f9bfce64f25108829dd295f54a6894e87339d',\n",
       "        'VSCODE_CRASH_REPORTER_PROCESS_TYPE': 'extensionHost',\n",
       "        'VSCODE_CWD': '/Users/bastienwinant/Desktop/projects/mlops-zoomcamp',\n",
       "        'VSCODE_HANDLES_UNCAUGHT_ERRORS': 'true',\n",
       "        'VSCODE_IPC_HOOK': '/Users/bastienwinant/Library/Application Support/Code/1.90-main.sock',\n",
       "        'VSCODE_NLS_CONFIG': '{\"locale\":\"en-us\",\"osLocale\":\"en-us\",\"availableLanguages\":{},\"_languagePackSupport\":true}',\n",
       "        'VSCODE_PID': '42066',\n",
       "        'XPC_FLAGS': '0x0',\n",
       "        'XPC_SERVICE_NAME': '0',\n",
       "        '__CFBundleIdentifier': 'com.microsoft.VSCode',\n",
       "        '__CF_USER_TEXT_ENCODING': '0x1F5:0x0:0x0',\n",
       "        'ELECTRON_RUN_AS_NODE': '1',\n",
       "        'VSCODE_L10N_BUNDLE_LOCATION': '',\n",
       "        'APPLICATION_INSIGHTS_NO_DIAGNOSTIC_CHANNEL': '1',\n",
       "        'PYTHONUNBUFFERED': '1',\n",
       "        'PYTHONIOENCODING': 'utf-8',\n",
       "        'VIRTUAL_ENV': '/Users/bastienwinant/Desktop/projects/mlops-zoomcamp/.env',\n",
       "        'PS1': '(.env) ',\n",
       "        '_': '/Users/bastienwinant/Desktop/projects/mlops-zoomcamp/.env/bin/python',\n",
       "        'PYDEVD_IPYTHON_COMPATIBLE_DEBUGGING': '1',\n",
       "        'PYTHON_FROZEN_MODULES': 'on',\n",
       "        'PYDEVD_USE_FRAME_EVAL': 'NO',\n",
       "        'CLICOLOR': '1',\n",
       "        'FORCE_COLOR': '1',\n",
       "        'CLICOLOR_FORCE': '1',\n",
       "        'PAGER': 'cat',\n",
       "        'GIT_PAGER': 'cat',\n",
       "        'MPLBACKEND': 'module://matplotlib_inline.backend_inline'}"
      ]
     },
     "execution_count": 3,
     "metadata": {},
     "output_type": "execute_result"
    }
   ],
   "source": [
    "# mlflow ui --backend-store-uri sqlite://mlflow.db"
   ]
  },
  {
   "cell_type": "code",
   "execution_count": null,
   "metadata": {},
   "outputs": [],
   "source": []
  }
 ],
 "metadata": {
  "kernelspec": {
   "display_name": ".env",
   "language": "python",
   "name": "python3"
  },
  "language_info": {
   "codemirror_mode": {
    "name": "ipython",
    "version": 3
   },
   "file_extension": ".py",
   "mimetype": "text/x-python",
   "name": "python",
   "nbconvert_exporter": "python",
   "pygments_lexer": "ipython3",
   "version": "3.9.6"
  }
 },
 "nbformat": 4,
 "nbformat_minor": 2
}
