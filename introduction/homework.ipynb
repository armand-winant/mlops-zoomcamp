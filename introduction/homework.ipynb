{
 "cells": [
  {
   "cell_type": "code",
   "execution_count": 172,
   "metadata": {},
   "outputs": [],
   "source": [
    "import pandas as pd\n",
    "import matplotlib.pyplot as plt\n",
    "import seaborn as sns\n",
    "from sklearn.feature_extraction import DictVectorizer\n",
    "from sklearn.linear_model import LinearRegression\n",
    "from sklearn.metrics import root_mean_squared_error\n",
    "import pickle"
   ]
  },
  {
   "cell_type": "code",
   "execution_count": 173,
   "metadata": {},
   "outputs": [],
   "source": [
    "def getYellowTaxiDataset(year, months):\n",
    "  dfs = []\n",
    "  for i in months:\n",
    "    df = pd.read_parquet(f'https://d37ci6vzurychx.cloudfront.net/trip-data/yellow_tripdata_{year}-{str(i).zfill(2)}.parquet')\n",
    "    df.columns = [colName.lower() for colName in df.columns]\n",
    "    dfs.append(df)\n",
    "  \n",
    "  return pd.concat(dfs)"
   ]
  },
  {
   "cell_type": "code",
   "execution_count": 174,
   "metadata": {},
   "outputs": [],
   "source": [
    "def getTripDuration(df):\n",
    "  df['duration'] = (df.tpep_dropoff_datetime - df.tpep_pickup_datetime).apply(lambda x: x.total_seconds() / 60)\n",
    "  return df"
   ]
  },
  {
   "cell_type": "code",
   "execution_count": 175,
   "metadata": {},
   "outputs": [],
   "source": [
    "def selectVariables(df, categorical, numerical, target):\n",
    "  df[categorical] = df[categorical].astype(str)\n",
    "\n",
    "  return df[categorical + numerical + target]"
   ]
  },
  {
   "cell_type": "code",
   "execution_count": 176,
   "metadata": {},
   "outputs": [],
   "source": [
    "def removeOutliers(df):\n",
    "  return df.loc[(df.duration >= 1) & (df.duration <= 60), :]"
   ]
  },
  {
   "cell_type": "code",
   "execution_count": 177,
   "metadata": {},
   "outputs": [
    {
     "name": "stdout",
     "output_type": "stream",
     "text": [
      "Raw data columns count: 19\n",
      "Standard deviation of trip duration 42.59\n",
      "Fraction of records left outlier removal 98.12\n"
     ]
    }
   ],
   "source": [
    "df = getYellowTaxiDataset(2023, [1])\n",
    "print(\"Raw data columns count:\", df.shape[1])\n",
    "raw_records_count = df.shape[0]\n",
    "df = getTripDuration(df)\n",
    "print(\"Standard deviation of trip duration\", round(df.duration.std(), 2))\n",
    "\n",
    "categoricalCols = ['pulocationid', 'dolocationid']\n",
    "numericalCols = []\n",
    "targetCol = ['duration']\n",
    "\n",
    "df = selectVariables(df, categoricalCols, numericalCols, targetCol)\n",
    "df = removeOutliers(df)\n",
    "print(\"Fraction of records left outlier removal\", round(100*df.shape[0] / raw_records_count, 2))"
   ]
  },
  {
   "cell_type": "code",
   "execution_count": 178,
   "metadata": {},
   "outputs": [],
   "source": [
    "def fitVectorizer(df, categorical, numerical):\n",
    "  df[categorical] = df[categorical].astype(str)\n",
    "\n",
    "  # one-hot encoding for categorical variables\n",
    "  df_dicts = df[categorical + numerical].to_dict(orient='records')\n",
    "  dv = DictVectorizer()\n",
    "  dv.fit(df_dicts)\n",
    "  return dv"
   ]
  },
  {
   "cell_type": "code",
   "execution_count": 179,
   "metadata": {},
   "outputs": [
    {
     "name": "stdout",
     "output_type": "stream",
     "text": [
      "Number of transformed features: 515\n"
     ]
    }
   ],
   "source": [
    "dv = fitVectorizer(df, categoricalCols, numericalCols)\n",
    "print(\"Number of transformed features:\", len(dv.get_feature_names_out()))"
   ]
  },
  {
   "cell_type": "code",
   "execution_count": 180,
   "metadata": {},
   "outputs": [],
   "source": [
    "def transformInputs(df, dv):\n",
    "  df_dicts = df.to_dict(orient='records')\n",
    "  X = dv.transform(df_dicts)\n",
    "\n",
    "  return X"
   ]
  },
  {
   "cell_type": "code",
   "execution_count": 181,
   "metadata": {},
   "outputs": [],
   "source": [
    "X = transformInputs(df, dv)\n",
    "y = df.duration"
   ]
  },
  {
   "cell_type": "code",
   "execution_count": 182,
   "metadata": {},
   "outputs": [],
   "source": [
    "def trainModel(model, X, y):\n",
    "  model.fit(X, y)\n",
    "\n",
    "  return model"
   ]
  },
  {
   "cell_type": "code",
   "execution_count": 185,
   "metadata": {},
   "outputs": [],
   "source": [
    "def testModel(model, X, y):\n",
    "  preds = model.predict(X)\n",
    "  return root_mean_squared_error(y, preds)"
   ]
  },
  {
   "cell_type": "code",
   "execution_count": 186,
   "metadata": {},
   "outputs": [
    {
     "name": "stdout",
     "output_type": "stream",
     "text": [
      "Training MSE: 7.65\n"
     ]
    }
   ],
   "source": [
    "lr = trainModel(LinearRegression(), X, y)\n",
    "mse = testModel(lr, X, y)\n",
    "print(\"Training MSE:\", round(mse, 2))"
   ]
  }
 ],
 "metadata": {
  "kernelspec": {
   "display_name": ".env",
   "language": "python",
   "name": "python3"
  },
  "language_info": {
   "codemirror_mode": {
    "name": "ipython",
    "version": 3
   },
   "file_extension": ".py",
   "mimetype": "text/x-python",
   "name": "python",
   "nbconvert_exporter": "python",
   "pygments_lexer": "ipython3",
   "version": "3.9.6"
  }
 },
 "nbformat": 4,
 "nbformat_minor": 2
}
