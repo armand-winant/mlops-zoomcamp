{
 "cells": [
  {
   "cell_type": "code",
   "execution_count": 1,
   "metadata": {},
   "outputs": [],
   "source": [
    "import pandas as pd\n",
    "import matplotlib.pyplot as plt\n",
    "import seaborn as sns\n",
    "from sklearn.feature_extraction import DictVectorizer\n",
    "from sklearn.linear_model import LinearRegression\n",
    "from sklearn.metrics import root_mean_squared_error\n",
    "import pickle"
   ]
  },
  {
   "cell_type": "code",
   "execution_count": 2,
   "metadata": {},
   "outputs": [],
   "source": [
    "def getYellowTaxiDataset(year, months):\n",
    "  dfs = []\n",
    "  for i in months:\n",
    "    df = pd.read_parquet(f'https://d37ci6vzurychx.cloudfront.net/trip-data/yellow_tripdata_{year}-{str(i).zfill(2)}.parquet')\n",
    "    df.columns = [colName.lower() for colName in df.columns]\n",
    "    dfs.append(df)\n",
    "  \n",
    "  return pd.concat(dfs)"
   ]
  },
  {
   "cell_type": "code",
   "execution_count": 3,
   "metadata": {},
   "outputs": [],
   "source": [
    "def getTripDuration(df):\n",
    "  df['duration'] = (df.tpep_dropoff_datetime - df.tpep_pickup_datetime).apply(lambda x: x.total_seconds() / 60)\n",
    "  return df"
   ]
  },
  {
   "cell_type": "code",
   "execution_count": 4,
   "metadata": {},
   "outputs": [],
   "source": [
    "def selectVariables(df, categorical, numerical, target):\n",
    "  df[categorical] = df[categorical].astype(str)\n",
    "\n",
    "  return df[categorical + numerical + target]"
   ]
  },
  {
   "cell_type": "code",
   "execution_count": 5,
   "metadata": {},
   "outputs": [],
   "source": [
    "def removeOutliers(df):\n",
    "  return df.loc[(df.duration >= 1) & (df.duration <= 60), :]"
   ]
  },
  {
   "cell_type": "code",
   "execution_count": 6,
   "metadata": {},
   "outputs": [
    {
     "name": "stdout",
     "output_type": "stream",
     "text": [
      "Raw data columns count: 19\n",
      "Standard deviation of trip duration 42.59\n",
      "Fraction of records left outlier removal 98.12\n"
     ]
    }
   ],
   "source": [
    "df = getYellowTaxiDataset(2023, [1])\n",
    "print(\"Raw data columns count:\", df.shape[1])\n",
    "raw_records_count = df.shape[0]\n",
    "df = getTripDuration(df)\n",
    "print(\"Standard deviation of trip duration\", round(df.duration.std(), 2))\n",
    "\n",
    "categoricalCols = ['pulocationid', 'dolocationid']\n",
    "numericalCols = []\n",
    "targetCol = ['duration']\n",
    "\n",
    "df = selectVariables(df, categoricalCols, numericalCols, targetCol)\n",
    "df = removeOutliers(df)\n",
    "print(\"Fraction of records left outlier removal\", round(100*df.shape[0] / raw_records_count, 2))"
   ]
  },
  {
   "cell_type": "code",
   "execution_count": 7,
   "metadata": {},
   "outputs": [],
   "source": [
    "def fitVectorizer(df, categorical, numerical):\n",
    "  df[categorical] = df[categorical].astype(str)\n",
    "\n",
    "  # one-hot encoding for categorical variables\n",
    "  df_dicts = df[categorical + numerical].to_dict(orient='records')\n",
    "  dv = DictVectorizer()\n",
    "  dv.fit(df_dicts)\n",
    "  return dv"
   ]
  },
  {
   "cell_type": "code",
   "execution_count": 8,
   "metadata": {},
   "outputs": [
    {
     "name": "stdout",
     "output_type": "stream",
     "text": [
      "Number of transformed features: 515\n"
     ]
    }
   ],
   "source": [
    "dv = fitVectorizer(df, categoricalCols, numericalCols)\n",
    "print(\"Number of transformed features:\", len(dv.get_feature_names_out()))"
   ]
  },
  {
   "cell_type": "code",
   "execution_count": 9,
   "metadata": {},
   "outputs": [],
   "source": [
    "def transformInputs(df, dv):\n",
    "  df_dicts = df.to_dict(orient='records')\n",
    "  X = dv.transform(df_dicts)\n",
    "\n",
    "  return X"
   ]
  },
  {
   "cell_type": "code",
   "execution_count": 10,
   "metadata": {},
   "outputs": [],
   "source": [
    "X = transformInputs(df, dv)\n",
    "y = df.duration"
   ]
  },
  {
   "cell_type": "code",
   "execution_count": 11,
   "metadata": {},
   "outputs": [],
   "source": [
    "def trainModel(model, X, y):\n",
    "  model.fit(X, y)\n",
    "\n",
    "  return model"
   ]
  },
  {
   "cell_type": "code",
   "execution_count": 12,
   "metadata": {},
   "outputs": [],
   "source": [
    "def testModel(model, X, y):\n",
    "  preds = model.predict(X)\n",
    "  return root_mean_squared_error(y, preds)"
   ]
  },
  {
   "cell_type": "code",
   "execution_count": 13,
   "metadata": {},
   "outputs": [
    {
     "name": "stdout",
     "output_type": "stream",
     "text": [
      "Training MSE: 7.65\n"
     ]
    }
   ],
   "source": [
    "lr = trainModel(LinearRegression(), X, y)\n",
    "mse = testModel(lr, X, y)\n",
    "print(\"Training MSE:\", round(mse, 2))"
   ]
  },
  {
   "cell_type": "code",
   "execution_count": 14,
   "metadata": {},
   "outputs": [],
   "source": [
    "test_df = getYellowTaxiDataset(2023, [2])\n",
    "test_df = getTripDuration(test_df)\n",
    "test_df = selectVariables(test_df, categoricalCols, numericalCols, targetCol)\n",
    "test_df = removeOutliers(test_df)"
   ]
  },
  {
   "cell_type": "code",
   "execution_count": 15,
   "metadata": {},
   "outputs": [],
   "source": [
    "X_test = transformInputs(test_df, dv)\n",
    "y_test = test_df.duration"
   ]
  },
  {
   "cell_type": "code",
   "execution_count": 16,
   "metadata": {},
   "outputs": [
    {
     "name": "stdout",
     "output_type": "stream",
     "text": [
      "Testing MSE: 7.81\n"
     ]
    }
   ],
   "source": [
    "mse_test = testModel(lr, X_test, y_test)\n",
    "print(\"Testing MSE:\", round(mse_test, 2))"
   ]
  },
  {
   "cell_type": "code",
   "execution_count": null,
   "metadata": {},
   "outputs": [],
   "source": []
  }
 ],
 "metadata": {
  "kernelspec": {
   "display_name": "Python 3 (ipykernel)",
   "language": "python",
   "name": "python3"
  },
  "language_info": {
   "codemirror_mode": {
    "name": "ipython",
    "version": 3
   },
   "file_extension": ".py",
   "mimetype": "text/x-python",
   "name": "python",
   "nbconvert_exporter": "python",
   "pygments_lexer": "ipython3",
   "version": "3.9.6"
  }
 },
 "nbformat": 4,
 "nbformat_minor": 4
}
